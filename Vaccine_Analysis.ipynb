{
 "cells": [
  {
   "cell_type": "markdown",
   "metadata": {},
   "source": [
    "# Seasonal Flu Vaccine Analysis"
   ]
  },
  {
   "cell_type": "markdown",
   "metadata": {},
   "source": [
    "## Overview\n",
    "This analysis models the likely-hood of an individual choosing to get the seasonal flu vaccine. The goal of this analysis is to give the CDC an understanding of the most impactful factors that will predict if someone will get the seasonal flu vaccine. Knowing which factors are most impactful can be used to better understand what leads an individual to choose to get vaccinated. This interpetation can be used to better market the vaccine for the public outreach team.\n",
    "\n",
    "The analysis found that the most relevant factor is if a doctor advises an individual to get the seasonal flu vaccine. Followed by an individual's opinion of the seasonal flu effectiveness.\n",
    "\n",
    "In response to these findings I recommend that the FDA: \n",
    "- Doctors recommending the vaccine to their patients, was the clearest connection the model found.\n",
    "\n",
    "- A person's opinion on the Season Flu Vaccine was the most influential feature, yet the connection between model performance and interpretation is unclear at this stage in the investigation.\n",
    "\n",
    "- The final model had a precision of 78% and an accuracy of 79% when predicting individuals who were vaccinated. \n",
    "\n"
   ]
  },
  {
   "cell_type": "markdown",
   "metadata": {},
   "source": [
    "## Business Problem & Data Understanding\n",
    "The CDC has inquired about the common factors of people who choose to get the seasonal flu vaccine. Knowing these factors, the CDC public outreach team hopes to get a better idea on who/what to focus on when trying to promote the seasonal flu vaccine. \n",
    "\n",
    "This analysis uses the national flu survey that was issued in 2009. Each row represents one person who took the survey and each column represents a question that was on that survey. \n",
    "\n",
    "The survey covered questions about both the seasonal flu vaccine and the H1N1 vaccine, for the purpose of this business problem only columns that pertained to the seasonal flu vaccine were investigated. In this analysis 26707 rows and 30 different columns were investigated. The target variable was `seasonal_vaccine`.\n",
    "\n",
    "For this binaray classification problem, the final model was an ensemble. "
   ]
  },
  {
   "cell_type": "markdown",
   "metadata": {},
   "source": [
    "## OBTAIN\n",
    "\n",
    "Import data and inspect the data\n",
    "\n"
   ]
  },
  {
   "cell_type": "code",
   "execution_count": 1,
   "metadata": {},
   "outputs": [
    {
     "data": {
      "text/html": [
       "<div>\n",
       "<style scoped>\n",
       "    .dataframe tbody tr th:only-of-type {\n",
       "        vertical-align: middle;\n",
       "    }\n",
       "\n",
       "    .dataframe tbody tr th {\n",
       "        vertical-align: top;\n",
       "    }\n",
       "\n",
       "    .dataframe thead th {\n",
       "        text-align: right;\n",
       "    }\n",
       "</style>\n",
       "<table border=\"1\" class=\"dataframe\">\n",
       "  <thead>\n",
       "    <tr style=\"text-align: right;\">\n",
       "      <th></th>\n",
       "      <th>respondent_id</th>\n",
       "      <th>h1n1_vaccine</th>\n",
       "      <th>seasonal_vaccine</th>\n",
       "    </tr>\n",
       "  </thead>\n",
       "  <tbody>\n",
       "    <tr>\n",
       "      <th>0</th>\n",
       "      <td>0</td>\n",
       "      <td>0</td>\n",
       "      <td>0</td>\n",
       "    </tr>\n",
       "    <tr>\n",
       "      <th>1</th>\n",
       "      <td>1</td>\n",
       "      <td>0</td>\n",
       "      <td>1</td>\n",
       "    </tr>\n",
       "    <tr>\n",
       "      <th>2</th>\n",
       "      <td>2</td>\n",
       "      <td>0</td>\n",
       "      <td>0</td>\n",
       "    </tr>\n",
       "    <tr>\n",
       "      <th>3</th>\n",
       "      <td>3</td>\n",
       "      <td>0</td>\n",
       "      <td>1</td>\n",
       "    </tr>\n",
       "    <tr>\n",
       "      <th>4</th>\n",
       "      <td>4</td>\n",
       "      <td>0</td>\n",
       "      <td>0</td>\n",
       "    </tr>\n",
       "  </tbody>\n",
       "</table>\n",
       "</div>"
      ],
      "text/plain": [
       "   respondent_id  h1n1_vaccine  seasonal_vaccine\n",
       "0              0             0                 0\n",
       "1              1             0                 1\n",
       "2              2             0                 0\n",
       "3              3             0                 1\n",
       "4              4             0                 0"
      ]
     },
     "execution_count": 1,
     "metadata": {},
     "output_type": "execute_result"
    }
   ],
   "source": [
    "# Import basic libraries\n",
    "import pandas as pd\n",
    "import numpy as np\n",
    "\n",
    "# Import data\n",
    "df1 = pd.read_csv('data/training_set_labels.csv')\n",
    "df1.head()"
   ]
  },
  {
   "cell_type": "code",
   "execution_count": 2,
   "metadata": {},
   "outputs": [
    {
     "data": {
      "text/html": [
       "<div>\n",
       "<style scoped>\n",
       "    .dataframe tbody tr th:only-of-type {\n",
       "        vertical-align: middle;\n",
       "    }\n",
       "\n",
       "    .dataframe tbody tr th {\n",
       "        vertical-align: top;\n",
       "    }\n",
       "\n",
       "    .dataframe thead th {\n",
       "        text-align: right;\n",
       "    }\n",
       "</style>\n",
       "<table border=\"1\" class=\"dataframe\">\n",
       "  <thead>\n",
       "    <tr style=\"text-align: right;\">\n",
       "      <th></th>\n",
       "      <th>respondent_id</th>\n",
       "      <th>h1n1_concern</th>\n",
       "      <th>h1n1_knowledge</th>\n",
       "      <th>behavioral_antiviral_meds</th>\n",
       "      <th>behavioral_avoidance</th>\n",
       "      <th>behavioral_face_mask</th>\n",
       "      <th>behavioral_wash_hands</th>\n",
       "      <th>behavioral_large_gatherings</th>\n",
       "      <th>behavioral_outside_home</th>\n",
       "      <th>behavioral_touch_face</th>\n",
       "      <th>...</th>\n",
       "      <th>income_poverty</th>\n",
       "      <th>marital_status</th>\n",
       "      <th>rent_or_own</th>\n",
       "      <th>employment_status</th>\n",
       "      <th>hhs_geo_region</th>\n",
       "      <th>census_msa</th>\n",
       "      <th>household_adults</th>\n",
       "      <th>household_children</th>\n",
       "      <th>employment_industry</th>\n",
       "      <th>employment_occupation</th>\n",
       "    </tr>\n",
       "  </thead>\n",
       "  <tbody>\n",
       "    <tr>\n",
       "      <th>0</th>\n",
       "      <td>0</td>\n",
       "      <td>1.0</td>\n",
       "      <td>0.0</td>\n",
       "      <td>0.0</td>\n",
       "      <td>0.0</td>\n",
       "      <td>0.0</td>\n",
       "      <td>0.0</td>\n",
       "      <td>0.0</td>\n",
       "      <td>1.0</td>\n",
       "      <td>1.0</td>\n",
       "      <td>...</td>\n",
       "      <td>Below Poverty</td>\n",
       "      <td>Not Married</td>\n",
       "      <td>Own</td>\n",
       "      <td>Not in Labor Force</td>\n",
       "      <td>oxchjgsf</td>\n",
       "      <td>Non-MSA</td>\n",
       "      <td>0.0</td>\n",
       "      <td>0.0</td>\n",
       "      <td>NaN</td>\n",
       "      <td>NaN</td>\n",
       "    </tr>\n",
       "    <tr>\n",
       "      <th>1</th>\n",
       "      <td>1</td>\n",
       "      <td>3.0</td>\n",
       "      <td>2.0</td>\n",
       "      <td>0.0</td>\n",
       "      <td>1.0</td>\n",
       "      <td>0.0</td>\n",
       "      <td>1.0</td>\n",
       "      <td>0.0</td>\n",
       "      <td>1.0</td>\n",
       "      <td>1.0</td>\n",
       "      <td>...</td>\n",
       "      <td>Below Poverty</td>\n",
       "      <td>Not Married</td>\n",
       "      <td>Rent</td>\n",
       "      <td>Employed</td>\n",
       "      <td>bhuqouqj</td>\n",
       "      <td>MSA, Not Principle  City</td>\n",
       "      <td>0.0</td>\n",
       "      <td>0.0</td>\n",
       "      <td>pxcmvdjn</td>\n",
       "      <td>xgwztkwe</td>\n",
       "    </tr>\n",
       "    <tr>\n",
       "      <th>2</th>\n",
       "      <td>2</td>\n",
       "      <td>1.0</td>\n",
       "      <td>1.0</td>\n",
       "      <td>0.0</td>\n",
       "      <td>1.0</td>\n",
       "      <td>0.0</td>\n",
       "      <td>0.0</td>\n",
       "      <td>0.0</td>\n",
       "      <td>0.0</td>\n",
       "      <td>0.0</td>\n",
       "      <td>...</td>\n",
       "      <td>&lt;= $75,000, Above Poverty</td>\n",
       "      <td>Not Married</td>\n",
       "      <td>Own</td>\n",
       "      <td>Employed</td>\n",
       "      <td>qufhixun</td>\n",
       "      <td>MSA, Not Principle  City</td>\n",
       "      <td>2.0</td>\n",
       "      <td>0.0</td>\n",
       "      <td>rucpziij</td>\n",
       "      <td>xtkaffoo</td>\n",
       "    </tr>\n",
       "    <tr>\n",
       "      <th>3</th>\n",
       "      <td>3</td>\n",
       "      <td>1.0</td>\n",
       "      <td>1.0</td>\n",
       "      <td>0.0</td>\n",
       "      <td>1.0</td>\n",
       "      <td>0.0</td>\n",
       "      <td>1.0</td>\n",
       "      <td>1.0</td>\n",
       "      <td>0.0</td>\n",
       "      <td>0.0</td>\n",
       "      <td>...</td>\n",
       "      <td>Below Poverty</td>\n",
       "      <td>Not Married</td>\n",
       "      <td>Rent</td>\n",
       "      <td>Not in Labor Force</td>\n",
       "      <td>lrircsnp</td>\n",
       "      <td>MSA, Principle City</td>\n",
       "      <td>0.0</td>\n",
       "      <td>0.0</td>\n",
       "      <td>NaN</td>\n",
       "      <td>NaN</td>\n",
       "    </tr>\n",
       "    <tr>\n",
       "      <th>4</th>\n",
       "      <td>4</td>\n",
       "      <td>2.0</td>\n",
       "      <td>1.0</td>\n",
       "      <td>0.0</td>\n",
       "      <td>1.0</td>\n",
       "      <td>0.0</td>\n",
       "      <td>1.0</td>\n",
       "      <td>1.0</td>\n",
       "      <td>0.0</td>\n",
       "      <td>1.0</td>\n",
       "      <td>...</td>\n",
       "      <td>&lt;= $75,000, Above Poverty</td>\n",
       "      <td>Married</td>\n",
       "      <td>Own</td>\n",
       "      <td>Employed</td>\n",
       "      <td>qufhixun</td>\n",
       "      <td>MSA, Not Principle  City</td>\n",
       "      <td>1.0</td>\n",
       "      <td>0.0</td>\n",
       "      <td>wxleyezf</td>\n",
       "      <td>emcorrxb</td>\n",
       "    </tr>\n",
       "  </tbody>\n",
       "</table>\n",
       "<p>5 rows × 36 columns</p>\n",
       "</div>"
      ],
      "text/plain": [
       "   respondent_id  h1n1_concern  h1n1_knowledge  behavioral_antiviral_meds  \\\n",
       "0              0           1.0             0.0                        0.0   \n",
       "1              1           3.0             2.0                        0.0   \n",
       "2              2           1.0             1.0                        0.0   \n",
       "3              3           1.0             1.0                        0.0   \n",
       "4              4           2.0             1.0                        0.0   \n",
       "\n",
       "   behavioral_avoidance  behavioral_face_mask  behavioral_wash_hands  \\\n",
       "0                   0.0                   0.0                    0.0   \n",
       "1                   1.0                   0.0                    1.0   \n",
       "2                   1.0                   0.0                    0.0   \n",
       "3                   1.0                   0.0                    1.0   \n",
       "4                   1.0                   0.0                    1.0   \n",
       "\n",
       "   behavioral_large_gatherings  behavioral_outside_home  \\\n",
       "0                          0.0                      1.0   \n",
       "1                          0.0                      1.0   \n",
       "2                          0.0                      0.0   \n",
       "3                          1.0                      0.0   \n",
       "4                          1.0                      0.0   \n",
       "\n",
       "   behavioral_touch_face  ...             income_poverty  marital_status  \\\n",
       "0                    1.0  ...              Below Poverty     Not Married   \n",
       "1                    1.0  ...              Below Poverty     Not Married   \n",
       "2                    0.0  ...  <= $75,000, Above Poverty     Not Married   \n",
       "3                    0.0  ...              Below Poverty     Not Married   \n",
       "4                    1.0  ...  <= $75,000, Above Poverty         Married   \n",
       "\n",
       "   rent_or_own   employment_status  hhs_geo_region                census_msa  \\\n",
       "0          Own  Not in Labor Force        oxchjgsf                   Non-MSA   \n",
       "1         Rent            Employed        bhuqouqj  MSA, Not Principle  City   \n",
       "2          Own            Employed        qufhixun  MSA, Not Principle  City   \n",
       "3         Rent  Not in Labor Force        lrircsnp       MSA, Principle City   \n",
       "4          Own            Employed        qufhixun  MSA, Not Principle  City   \n",
       "\n",
       "   household_adults  household_children  employment_industry  \\\n",
       "0               0.0                 0.0                  NaN   \n",
       "1               0.0                 0.0             pxcmvdjn   \n",
       "2               2.0                 0.0             rucpziij   \n",
       "3               0.0                 0.0                  NaN   \n",
       "4               1.0                 0.0             wxleyezf   \n",
       "\n",
       "   employment_occupation  \n",
       "0                    NaN  \n",
       "1               xgwztkwe  \n",
       "2               xtkaffoo  \n",
       "3                    NaN  \n",
       "4               emcorrxb  \n",
       "\n",
       "[5 rows x 36 columns]"
      ]
     },
     "execution_count": 2,
     "metadata": {},
     "output_type": "execute_result"
    }
   ],
   "source": [
    "# Import data\n",
    "df2 = pd.read_csv('data/training_set_features.csv')\n",
    "df2.head()"
   ]
  },
  {
   "cell_type": "markdown",
   "metadata": {},
   "source": [
    "This dataset contains data on both the H1N1 vaccine and the seasonal flu vaccine. My school, the Flatiron School, prompts that only one of the vaccines should be analyzed for this project. A basic investigation of both vaccines is taken below to help me decide which vaccine to analyze for this project. "
   ]
  },
  {
   "cell_type": "code",
   "execution_count": 3,
   "metadata": {},
   "outputs": [
    {
     "data": {
      "text/plain": [
       "0    21033\n",
       "1     5674\n",
       "Name: h1n1_vaccine, dtype: int64"
      ]
     },
     "execution_count": 3,
     "metadata": {},
     "output_type": "execute_result"
    }
   ],
   "source": [
    "# View count of vaccinated people vs. unvaccinated people\n",
    "df1['h1n1_vaccine'].value_counts()"
   ]
  },
  {
   "cell_type": "code",
   "execution_count": 4,
   "metadata": {},
   "outputs": [
    {
     "data": {
      "text/plain": [
       "0    14272\n",
       "1    12435\n",
       "Name: seasonal_vaccine, dtype: int64"
      ]
     },
     "execution_count": 4,
     "metadata": {},
     "output_type": "execute_result"
    }
   ],
   "source": [
    "# View count of vaccinated people vs. unvaccinated people\n",
    "df1['seasonal_vaccine'].value_counts()"
   ]
  },
  {
   "cell_type": "markdown",
   "metadata": {},
   "source": [
    "Since I have been instructed to only pick one vaccine, I will go with the seasonal flu vaccine. This is because the data is more balanced, which means there is a higher chance of a successful model."
   ]
  },
  {
   "cell_type": "code",
   "execution_count": 5,
   "metadata": {},
   "outputs": [
    {
     "data": {
      "text/plain": [
       "Index(['respondent_id', 'h1n1_concern', 'h1n1_knowledge',\n",
       "       'behavioral_antiviral_meds', 'behavioral_avoidance',\n",
       "       'behavioral_face_mask', 'behavioral_wash_hands',\n",
       "       'behavioral_large_gatherings', 'behavioral_outside_home',\n",
       "       'behavioral_touch_face', 'doctor_recc_h1n1', 'doctor_recc_seasonal',\n",
       "       'chronic_med_condition', 'child_under_6_months', 'health_worker',\n",
       "       'health_insurance', 'opinion_h1n1_vacc_effective', 'opinion_h1n1_risk',\n",
       "       'opinion_h1n1_sick_from_vacc', 'opinion_seas_vacc_effective',\n",
       "       'opinion_seas_risk', 'opinion_seas_sick_from_vacc', 'age_group',\n",
       "       'education', 'race', 'sex', 'income_poverty', 'marital_status',\n",
       "       'rent_or_own', 'employment_status', 'hhs_geo_region', 'census_msa',\n",
       "       'household_adults', 'household_children', 'employment_industry',\n",
       "       'employment_occupation'],\n",
       "      dtype='object')"
      ]
     },
     "execution_count": 5,
     "metadata": {},
     "output_type": "execute_result"
    }
   ],
   "source": [
    "# view columns\n",
    "df2.columns"
   ]
  },
  {
   "cell_type": "code",
   "execution_count": 6,
   "metadata": {},
   "outputs": [],
   "source": [
    "# drop the H1N1 data from the dataset since the business problem is only\n",
    "# about the seasonal flu\n",
    "df_flu = df2.drop(['h1n1_concern', 'h1n1_knowledge', 'doctor_recc_h1n1',\n",
    "                  'opinion_h1n1_vacc_effective', 'opinion_h1n1_risk',\n",
    "                 'opinion_h1n1_sick_from_vacc'], axis = 1, inplace=True)"
   ]
  },
  {
   "cell_type": "code",
   "execution_count": 7,
   "metadata": {},
   "outputs": [
    {
     "name": "stdout",
     "output_type": "stream",
     "text": [
      "<class 'pandas.core.frame.DataFrame'>\n",
      "Int64Index: 26707 entries, 0 to 26706\n",
      "Data columns (total 31 columns):\n",
      " #   Column                       Non-Null Count  Dtype  \n",
      "---  ------                       --------------  -----  \n",
      " 0   respondent_id                26707 non-null  int64  \n",
      " 1   behavioral_antiviral_meds    26636 non-null  float64\n",
      " 2   behavioral_avoidance         26499 non-null  float64\n",
      " 3   behavioral_face_mask         26688 non-null  float64\n",
      " 4   behavioral_wash_hands        26665 non-null  float64\n",
      " 5   behavioral_large_gatherings  26620 non-null  float64\n",
      " 6   behavioral_outside_home      26625 non-null  float64\n",
      " 7   behavioral_touch_face        26579 non-null  float64\n",
      " 8   doctor_recc_seasonal         24547 non-null  float64\n",
      " 9   chronic_med_condition        25736 non-null  float64\n",
      " 10  child_under_6_months         25887 non-null  float64\n",
      " 11  health_worker                25903 non-null  float64\n",
      " 12  health_insurance             14433 non-null  float64\n",
      " 13  opinion_seas_vacc_effective  26245 non-null  float64\n",
      " 14  opinion_seas_risk            26193 non-null  float64\n",
      " 15  opinion_seas_sick_from_vacc  26170 non-null  float64\n",
      " 16  age_group                    26707 non-null  object \n",
      " 17  education                    25300 non-null  object \n",
      " 18  race                         26707 non-null  object \n",
      " 19  sex                          26707 non-null  object \n",
      " 20  income_poverty               22284 non-null  object \n",
      " 21  marital_status               25299 non-null  object \n",
      " 22  rent_or_own                  24665 non-null  object \n",
      " 23  employment_status            25244 non-null  object \n",
      " 24  hhs_geo_region               26707 non-null  object \n",
      " 25  census_msa                   26707 non-null  object \n",
      " 26  household_adults             26458 non-null  float64\n",
      " 27  household_children           26458 non-null  float64\n",
      " 28  employment_industry          13377 non-null  object \n",
      " 29  employment_occupation        13237 non-null  object \n",
      " 30  seasonal_vaccine             26707 non-null  int64  \n",
      "dtypes: float64(17), int64(2), object(12)\n",
      "memory usage: 6.5+ MB\n"
     ]
    }
   ],
   "source": [
    "# combine the dataset containing just the target (df1) and the data set\n",
    "# containing the features (df_flu)\n",
    "data = df2.merge(df1, on= 'respondent_id', how = 'inner')\n",
    "\n",
    "# drop 'h1n1_vaccine' column since business problem is just for seasonal flu\n",
    "data.drop('h1n1_vaccine', axis = 1, inplace=True)\n",
    "\n",
    "data.info()"
   ]
  },
  {
   "cell_type": "markdown",
   "metadata": {},
   "source": [
    "## Explore data"
   ]
  },
  {
   "cell_type": "code",
   "execution_count": 8,
   "metadata": {},
   "outputs": [
    {
     "name": "stdout",
     "output_type": "stream",
     "text": [
      "respondent_id                      0\n",
      "behavioral_antiviral_meds         71\n",
      "behavioral_avoidance             208\n",
      "behavioral_face_mask              19\n",
      "behavioral_wash_hands             42\n",
      "behavioral_large_gatherings       87\n",
      "behavioral_outside_home           82\n",
      "behavioral_touch_face            128\n",
      "doctor_recc_seasonal            2160\n",
      "chronic_med_condition            971\n",
      "child_under_6_months             820\n",
      "health_worker                    804\n",
      "health_insurance               12274\n",
      "opinion_seas_vacc_effective      462\n",
      "opinion_seas_risk                514\n",
      "opinion_seas_sick_from_vacc      537\n",
      "age_group                          0\n",
      "education                       1407\n",
      "race                               0\n",
      "sex                                0\n",
      "income_poverty                  4423\n",
      "marital_status                  1408\n",
      "rent_or_own                     2042\n",
      "employment_status               1463\n",
      "hhs_geo_region                     0\n",
      "census_msa                         0\n",
      "household_adults                 249\n",
      "household_children               249\n",
      "employment_industry            13330\n",
      "employment_occupation          13470\n",
      "seasonal_vaccine                   0\n",
      "dtype: int64\n"
     ]
    }
   ],
   "source": [
    "# We see there are some NaN values that need to be delt with \n",
    "print(data.isna().sum())"
   ]
  },
  {
   "cell_type": "markdown",
   "metadata": {},
   "source": [
    "There are multiple ways to deal with missing data. To start, there are three columns with around half the data missing. With such a significant amount of data missing it would be a bad idea to assign that data to an assumed value such as the majority class. Making an assumption on half the data for a column can cause a unexpect and fabricated correlation in the model. For that reason for the three columns `employment_industry`, `employment_occupation`, and `health_insurance` will have its missing data replaced with a new category, 'unknown'.\n",
    "\n",
    "For the rest of the columns, there is significantly less data missing. For those, I'm choosing to group missing data with the most frequent/majority class. This is because I think it is more likely much of that missing data will actually be placed in the correct category. If I were to add a new category for 'Unknown' for those columns I could unintentionally skew the data more than grouping missing data with the majority class. \n",
    "\n",
    "However, just to make sure that picking the majority class is a good option, we can take a closer look at columns with missing data and see how balanced those columns are."
   ]
  },
  {
   "cell_type": "code",
   "execution_count": 9,
   "metadata": {
    "scrolled": true
   },
   "outputs": [
    {
     "name": "stdout",
     "output_type": "stream",
     "text": [
      "Married        13555\n",
      "Not Married    11744\n",
      "Name: marital_status, dtype: int64\n",
      "----------------------------------------\n",
      "<= $75,000, Above Poverty    12777\n",
      "> $75,000                     6810\n",
      "Below Poverty                 2697\n",
      "Name: income_poverty, dtype: int64\n",
      "----------------------------------------\n",
      "0.0    18446\n",
      "1.0     7290\n",
      "Name: chronic_med_condition, dtype: int64\n",
      "----------------------------------------\n",
      "0.0    16453\n",
      "1.0     8094\n",
      "Name: doctor_recc_seasonal, dtype: int64\n",
      "----------------------------------------\n",
      "4.0    11629\n",
      "5.0     9973\n",
      "2.0     2206\n",
      "1.0     1221\n",
      "3.0     1216\n",
      "Name: opinion_seas_vacc_effective, dtype: int64\n"
     ]
    }
   ],
   "source": [
    "# take a look at at the distribution of the data for some of the column\n",
    "dashes = '-'* 40\n",
    "print(data['marital_status'].value_counts())\n",
    "print(dashes)\n",
    "print(data['income_poverty'].value_counts())\n",
    "print(dashes)\n",
    "print(data['chronic_med_condition'].value_counts())\n",
    "print(dashes)\n",
    "print(data['doctor_recc_seasonal'].value_counts())\n",
    "print(dashes)\n",
    "print(data['opinion_seas_vacc_effective'].value_counts())"
   ]
  },
  {
   "cell_type": "markdown",
   "metadata": {},
   "source": [
    "We see here that generally there is a category that has a value count that is significantly higher than the rest. Making the assumption that the missing data best fits with the majority category, should have less of an impact than other options such as creating a new category or grouping with other categories.\n",
    "\n",
    "However, this can be changed later on if it is seen there are more negative repercussions than originally expected. "
   ]
  },
  {
   "cell_type": "code",
   "execution_count": 10,
   "metadata": {},
   "outputs": [
    {
     "data": {
      "text/plain": [
       "respondent_id                    int64\n",
       "behavioral_antiviral_meds      float64\n",
       "behavioral_avoidance           float64\n",
       "behavioral_face_mask           float64\n",
       "behavioral_wash_hands          float64\n",
       "behavioral_large_gatherings    float64\n",
       "behavioral_outside_home        float64\n",
       "behavioral_touch_face          float64\n",
       "doctor_recc_seasonal           float64\n",
       "chronic_med_condition          float64\n",
       "child_under_6_months           float64\n",
       "health_worker                  float64\n",
       "health_insurance               float64\n",
       "opinion_seas_vacc_effective    float64\n",
       "opinion_seas_risk              float64\n",
       "opinion_seas_sick_from_vacc    float64\n",
       "age_group                       object\n",
       "education                       object\n",
       "race                            object\n",
       "sex                             object\n",
       "income_poverty                  object\n",
       "marital_status                  object\n",
       "rent_or_own                     object\n",
       "employment_status               object\n",
       "hhs_geo_region                  object\n",
       "census_msa                      object\n",
       "household_adults               float64\n",
       "household_children             float64\n",
       "employment_industry             object\n",
       "employment_occupation           object\n",
       "seasonal_vaccine                 int64\n",
       "dtype: object"
      ]
     },
     "execution_count": 10,
     "metadata": {},
     "output_type": "execute_result"
    }
   ],
   "source": [
    "# closer look at data\n",
    "data.dtypes"
   ]
  },
  {
   "cell_type": "code",
   "execution_count": 11,
   "metadata": {},
   "outputs": [
    {
     "name": "stdout",
     "output_type": "stream",
     "text": [
      "race             \n",
      "White                21222\n",
      "Black                 2118\n",
      "Hispanic              1755\n",
      "Other or Multiple     1612\n",
      "dtype: int64\n",
      "----------------------------------------\n",
      "education       \n",
      "College Graduate    10097\n",
      "Some College         7043\n",
      "12 Years             5797\n",
      "< 12 Years           2363\n",
      "dtype: int64\n",
      "----------------------------------------\n",
      "income_poverty           \n",
      "<= $75,000, Above Poverty    12777\n",
      "> $75,000                     6810\n",
      "Below Poverty                 2697\n",
      "dtype: int64\n"
     ]
    }
   ],
   "source": [
    "# closer look at columns with object dtype and we see this is categorical data\n",
    "print(data.value_counts(['race']))\n",
    "print(dashes)\n",
    "print(data.value_counts(['education']))\n",
    "print(dashes)\n",
    "print(data.value_counts(['income_poverty']))"
   ]
  },
  {
   "cell_type": "code",
   "execution_count": 12,
   "metadata": {},
   "outputs": [
    {
     "name": "stdout",
     "output_type": "stream",
     "text": [
      "behavioral_avoidance\n",
      "1.0                     19228\n",
      "0.0                      7271\n",
      "dtype: int64\n",
      "----------------------------------------\n",
      "behavioral_touch_face\n",
      "1.0                      18001\n",
      "0.0                       8578\n",
      "dtype: int64\n",
      "----------------------------------------\n",
      "household_adults\n",
      "1.0                 14474\n",
      "0.0                  8056\n",
      "2.0                  2803\n",
      "3.0                  1125\n",
      "dtype: int64\n"
     ]
    }
   ],
   "source": [
    "# closer look at numeric columns\n",
    "print(data.value_counts(['behavioral_avoidance']))\n",
    "print(dashes)\n",
    "print(data.value_counts(['behavioral_touch_face']))\n",
    "print(dashes)\n",
    "print(data.value_counts(['household_adults']))"
   ]
  },
  {
   "cell_type": "markdown",
   "metadata": {},
   "source": [
    "We can see that the numeric data is a mixture of yes (1) or no (0) questions along with actual numeric values such as with the number of adults in a household. Even though these are numeric values they are actually representing a category, since these are not continuous  and should not be treated as such.\n",
    "\n",
    "The columns with the object data type are broken down into various different categories.\n",
    "\n",
    "We can use one-hot encoder to turn the categorical data in both the numeric dtype & object dtype into a series of yes (1) no (0) questions. Once this is done all the columns will be on the same scale which is necessary for proper modeling."
   ]
  },
  {
   "cell_type": "code",
   "execution_count": 13,
   "metadata": {},
   "outputs": [
    {
     "data": {
      "text/plain": [
       "Index(['respondent_id', 'behavioral_antiviral_meds', 'behavioral_avoidance',\n",
       "       'behavioral_face_mask', 'behavioral_wash_hands',\n",
       "       'behavioral_large_gatherings', 'behavioral_outside_home',\n",
       "       'behavioral_touch_face', 'doctor_recc_seasonal',\n",
       "       'chronic_med_condition', 'child_under_6_months', 'health_worker',\n",
       "       'health_insurance', 'opinion_seas_vacc_effective', 'opinion_seas_risk',\n",
       "       'opinion_seas_sick_from_vacc', 'age_group', 'education', 'race', 'sex',\n",
       "       'income_poverty', 'marital_status', 'rent_or_own', 'employment_status',\n",
       "       'hhs_geo_region', 'census_msa', 'household_adults',\n",
       "       'household_children', 'employment_industry', 'employment_occupation',\n",
       "       'seasonal_vaccine'],\n",
       "      dtype='object')"
      ]
     },
     "execution_count": 13,
     "metadata": {},
     "output_type": "execute_result"
    }
   ],
   "source": [
    "data.columns"
   ]
  },
  {
   "cell_type": "code",
   "execution_count": 14,
   "metadata": {},
   "outputs": [
    {
     "data": {
      "text/plain": [
       "behavioral_antiviral_meds      0\n",
       "behavioral_avoidance           0\n",
       "behavioral_face_mask           0\n",
       "behavioral_wash_hands          0\n",
       "behavioral_large_gatherings    0\n",
       "behavioral_outside_home        0\n",
       "behavioral_touch_face          0\n",
       "doctor_recc_seasonal           0\n",
       "chronic_med_condition          0\n",
       "child_under_6_months           0\n",
       "health_worker                  0\n",
       "opinion_seas_vacc_effective    0\n",
       "opinion_seas_risk              0\n",
       "opinion_seas_sick_from_vacc    0\n",
       "age_group                      0\n",
       "education                      0\n",
       "race                           0\n",
       "sex                            0\n",
       "marital_status                 0\n",
       "rent_or_own                    0\n",
       "employment_status              0\n",
       "hhs_geo_region                 0\n",
       "census_msa                     0\n",
       "household_adults               0\n",
       "household_children             0\n",
       "employment_occupation          0\n",
       "income_poverty                 0\n",
       "dtype: int64"
      ]
     },
     "execution_count": 14,
     "metadata": {},
     "output_type": "execute_result"
    }
   ],
   "source": [
    "# use SimpleImputer to fill NaN values with the majority class for \n",
    "# columns without a significant amount of NaN\n",
    "from sklearn.impute import SimpleImputer\n",
    "cols = ['behavioral_antiviral_meds', 'behavioral_avoidance',\n",
    "       'behavioral_face_mask', 'behavioral_wash_hands',\n",
    "       'behavioral_large_gatherings', 'behavioral_outside_home',\n",
    "       'behavioral_touch_face', 'doctor_recc_seasonal',\n",
    "       'chronic_med_condition', 'child_under_6_months', 'health_worker',\n",
    "       'opinion_seas_vacc_effective', 'opinion_seas_risk',\n",
    "       'opinion_seas_sick_from_vacc', 'age_group', 'education', 'race', 'sex',\n",
    "       'marital_status', 'rent_or_own', 'employment_status',\n",
    "       'hhs_geo_region', 'census_msa', 'household_adults',\n",
    "       'household_children', 'employment_occupation', 'income_poverty']\n",
    "imputer = SimpleImputer(strategy='most_frequent', missing_values=np.nan)\n",
    "data[cols] = imputer.fit_transform(data[cols])\n",
    "data[cols].isna().sum()"
   ]
  },
  {
   "cell_type": "code",
   "execution_count": 15,
   "metadata": {},
   "outputs": [
    {
     "data": {
      "text/plain": [
       "employment_industry      0\n",
       "employment_occupation    0\n",
       "health_insurance         0\n",
       "dtype: int64"
      ]
     },
     "execution_count": 15,
     "metadata": {},
     "output_type": "execute_result"
    }
   ],
   "source": [
    "# Use SimpleImputer to fill in the significant amount of NaN values\n",
    "# with 'unknown'\n",
    "from sklearn.impute import SimpleImputer\n",
    "cols = ['employment_industry', 'employment_occupation', 'health_insurance']\n",
    "imputer = SimpleImputer(strategy='constant', missing_values=np.nan, fill_value='unknown')\n",
    "data[cols] = imputer.fit_transform(data[cols])\n",
    "data[cols].isna().sum()"
   ]
  },
  {
   "cell_type": "code",
   "execution_count": 16,
   "metadata": {},
   "outputs": [
    {
     "data": {
      "text/plain": [
       "unknown     13330\n",
       "fcxhlnwr     2468\n",
       "wxleyezf     1804\n",
       "ldnlellj     1231\n",
       "pxcmvdjn     1037\n",
       "atmlpfrs      926\n",
       "arjwrbjb      871\n",
       "xicduogh      851\n",
       "mfikgejo      614\n",
       "vjjrobsf      527\n",
       "rucpziij      523\n",
       "xqicxuve      511\n",
       "saaquncn      338\n",
       "cfqqtusy      325\n",
       "nduyfdeo      286\n",
       "mcubkhph      275\n",
       "wlfvacwt      215\n",
       "dotnnunm      201\n",
       "haxffmxo      148\n",
       "msuufmds      124\n",
       "phxvnwax       89\n",
       "qnlwzans       13\n",
       "Name: employment_industry, dtype: int64"
      ]
     },
     "execution_count": 16,
     "metadata": {},
     "output_type": "execute_result"
    }
   ],
   "source": [
    "#double check the unknown value is now there instead of NaN\n",
    "data['employment_industry'].value_counts()"
   ]
  },
  {
   "cell_type": "code",
   "execution_count": 17,
   "metadata": {},
   "outputs": [
    {
     "data": {
      "text/plain": [
       "xtkaffoo    15248\n",
       "mxkfnird     1509\n",
       "emcorrxb     1270\n",
       "cmhcxjea     1247\n",
       "xgwztkwe     1082\n",
       "hfxkjkmi      766\n",
       "qxajmpny      548\n",
       "xqwwgdyp      485\n",
       "kldqjyjy      469\n",
       "uqqtjvyb      452\n",
       "tfqavkke      388\n",
       "ukymxvdu      372\n",
       "vlluhbov      354\n",
       "oijqvulv      344\n",
       "ccgxvspp      341\n",
       "bxpfxfdn      331\n",
       "haliazsg      296\n",
       "rcertsgn      276\n",
       "xzmlyyjv      248\n",
       "dlvbwzss      227\n",
       "hodpvpew      208\n",
       "dcjcmpih      148\n",
       "pvmttkik       98\n",
       "Name: employment_occupation, dtype: int64"
      ]
     },
     "execution_count": 17,
     "metadata": {},
     "output_type": "execute_result"
    }
   ],
   "source": [
    "data['employment_occupation'].value_counts()"
   ]
  },
  {
   "cell_type": "markdown",
   "metadata": {},
   "source": [
    "Now that we have dealt with the NaN data, we can move onto one-hot encoding. First we should double check we know all the numerical columns are not continuous and can be represented by a category. "
   ]
  },
  {
   "cell_type": "code",
   "execution_count": 18,
   "metadata": {},
   "outputs": [
    {
     "data": {
      "image/png": "[encoded data removed]",
      "text/plain": [
       "<Figure size 1080x1080 with 20 Axes>"
      ]
     },
     "metadata": {
      "needs_background": "light"
     },
     "output_type": "display_data"
    }
   ],
   "source": [
    "# quick visualization of the numerical dtype columns \n",
    "import matplotlib.pyplot as plt\n",
    "%matplotlib inline\n",
    "\n",
    "data.hist(color='steelblue', edgecolor='black',\n",
    "           xlabelsize=15, ylabelsize=15, grid=False, figsize = (15, 15))\n",
    "plt.tight_layout() "
   ]
  },
  {
   "cell_type": "markdown",
   "metadata": {},
   "source": [
    "We will want to turn the columns that have more values than 0 (no) or 1 (yes) into objects and then one-hot encode them, then all columns will be answered in a yes (1) or no (0) fashion. Doing this will have all the columns be binary. "
   ]
  },
  {
   "cell_type": "code",
   "execution_count": 19,
   "metadata": {},
   "outputs": [],
   "source": [
    "#one-hot encode the numerical data that has more than 0 or 1 response\n",
    "num2cat = ['opinion_seas_vacc_effective','opinion_seas_risk', 'opinion_seas_sick_from_vacc',\n",
    "          'household_adults', 'household_children']\n",
    "from sklearn.preprocessing import OneHotEncoder\n",
    "encoder = OneHotEncoder(sparse=False, drop='first')\n",
    "num2cat_ohe = encoder.fit_transform(data[num2cat])\n",
    "n2c_ohe = pd.DataFrame(num2cat_ohe,columns=encoder.get_feature_names(num2cat),\n",
    "                     index=data.index)"
   ]
  },
  {
   "cell_type": "code",
   "execution_count": 20,
   "metadata": {},
   "outputs": [
    {
     "data": {
      "text/html": [
       "<div>\n",
       "<style scoped>\n",
       "    .dataframe tbody tr th:only-of-type {\n",
       "        vertical-align: middle;\n",
       "    }\n",
       "\n",
       "    .dataframe tbody tr th {\n",
       "        vertical-align: top;\n",
       "    }\n",
       "\n",
       "    .dataframe thead th {\n",
       "        text-align: right;\n",
       "    }\n",
       "</style>\n",
       "<table border=\"1\" class=\"dataframe\">\n",
       "  <thead>\n",
       "    <tr style=\"text-align: right;\">\n",
       "      <th></th>\n",
       "      <th>opinion_seas_vacc_effective_2.0</th>\n",
       "      <th>opinion_seas_vacc_effective_3.0</th>\n",
       "      <th>opinion_seas_vacc_effective_4.0</th>\n",
       "      <th>opinion_seas_vacc_effective_5.0</th>\n",
       "      <th>opinion_seas_risk_2.0</th>\n",
       "      <th>opinion_seas_risk_3.0</th>\n",
       "      <th>opinion_seas_risk_4.0</th>\n",
       "      <th>opinion_seas_risk_5.0</th>\n",
       "      <th>opinion_seas_sick_from_vacc_2.0</th>\n",
       "      <th>opinion_seas_sick_from_vacc_3.0</th>\n",
       "      <th>opinion_seas_sick_from_vacc_4.0</th>\n",
       "      <th>opinion_seas_sick_from_vacc_5.0</th>\n",
       "      <th>household_adults_1.0</th>\n",
       "      <th>household_adults_2.0</th>\n",
       "      <th>household_adults_3.0</th>\n",
       "      <th>household_children_1.0</th>\n",
       "      <th>household_children_2.0</th>\n",
       "      <th>household_children_3.0</th>\n",
       "    </tr>\n",
       "  </thead>\n",
       "  <tbody>\n",
       "    <tr>\n",
       "      <th>count</th>\n",
       "      <td>26707.000000</td>\n",
       "      <td>26707.000000</td>\n",
       "      <td>26707.000000</td>\n",
       "      <td>26707.000000</td>\n",
       "      <td>26707.000000</td>\n",
       "      <td>26707.000000</td>\n",
       "      <td>26707.000000</td>\n",
       "      <td>26707.000000</td>\n",
       "      <td>26707.000000</td>\n",
       "      <td>26707.000000</td>\n",
       "      <td>26707.000000</td>\n",
       "      <td>26707.00000</td>\n",
       "      <td>26707.000000</td>\n",
       "      <td>26707.000000</td>\n",
       "      <td>26707.000000</td>\n",
       "      <td>26707.000000</td>\n",
       "      <td>26707.000000</td>\n",
       "      <td>26707.000000</td>\n",
       "    </tr>\n",
       "    <tr>\n",
       "      <th>mean</th>\n",
       "      <td>0.082600</td>\n",
       "      <td>0.045531</td>\n",
       "      <td>0.452728</td>\n",
       "      <td>0.373423</td>\n",
       "      <td>0.354514</td>\n",
       "      <td>0.025349</td>\n",
       "      <td>0.285693</td>\n",
       "      <td>0.110757</td>\n",
       "      <td>0.285805</td>\n",
       "      <td>0.003520</td>\n",
       "      <td>0.181675</td>\n",
       "      <td>0.06444</td>\n",
       "      <td>0.551279</td>\n",
       "      <td>0.104954</td>\n",
       "      <td>0.042124</td>\n",
       "      <td>0.118883</td>\n",
       "      <td>0.107238</td>\n",
       "      <td>0.065414</td>\n",
       "    </tr>\n",
       "    <tr>\n",
       "      <th>std</th>\n",
       "      <td>0.275282</td>\n",
       "      <td>0.208470</td>\n",
       "      <td>0.497770</td>\n",
       "      <td>0.483722</td>\n",
       "      <td>0.478375</td>\n",
       "      <td>0.157186</td>\n",
       "      <td>0.451752</td>\n",
       "      <td>0.313837</td>\n",
       "      <td>0.451806</td>\n",
       "      <td>0.059223</td>\n",
       "      <td>0.385584</td>\n",
       "      <td>0.24554</td>\n",
       "      <td>0.497373</td>\n",
       "      <td>0.306500</td>\n",
       "      <td>0.200875</td>\n",
       "      <td>0.323656</td>\n",
       "      <td>0.309421</td>\n",
       "      <td>0.247259</td>\n",
       "    </tr>\n",
       "    <tr>\n",
       "      <th>min</th>\n",
       "      <td>0.000000</td>\n",
       "      <td>0.000000</td>\n",
       "      <td>0.000000</td>\n",
       "      <td>0.000000</td>\n",
       "      <td>0.000000</td>\n",
       "      <td>0.000000</td>\n",
       "      <td>0.000000</td>\n",
       "      <td>0.000000</td>\n",
       "      <td>0.000000</td>\n",
       "      <td>0.000000</td>\n",
       "      <td>0.000000</td>\n",
       "      <td>0.00000</td>\n",
       "      <td>0.000000</td>\n",
       "      <td>0.000000</td>\n",
       "      <td>0.000000</td>\n",
       "      <td>0.000000</td>\n",
       "      <td>0.000000</td>\n",
       "      <td>0.000000</td>\n",
       "    </tr>\n",
       "    <tr>\n",
       "      <th>25%</th>\n",
       "      <td>0.000000</td>\n",
       "      <td>0.000000</td>\n",
       "      <td>0.000000</td>\n",
       "      <td>0.000000</td>\n",
       "      <td>0.000000</td>\n",
       "      <td>0.000000</td>\n",
       "      <td>0.000000</td>\n",
       "      <td>0.000000</td>\n",
       "      <td>0.000000</td>\n",
       "      <td>0.000000</td>\n",
       "      <td>0.000000</td>\n",
       "      <td>0.00000</td>\n",
       "      <td>0.000000</td>\n",
       "      <td>0.000000</td>\n",
       "      <td>0.000000</td>\n",
       "      <td>0.000000</td>\n",
       "      <td>0.000000</td>\n",
       "      <td>0.000000</td>\n",
       "    </tr>\n",
       "    <tr>\n",
       "      <th>50%</th>\n",
       "      <td>0.000000</td>\n",
       "      <td>0.000000</td>\n",
       "      <td>0.000000</td>\n",
       "      <td>0.000000</td>\n",
       "      <td>0.000000</td>\n",
       "      <td>0.000000</td>\n",
       "      <td>0.000000</td>\n",
       "      <td>0.000000</td>\n",
       "      <td>0.000000</td>\n",
       "      <td>0.000000</td>\n",
       "      <td>0.000000</td>\n",
       "      <td>0.00000</td>\n",
       "      <td>1.000000</td>\n",
       "      <td>0.000000</td>\n",
       "      <td>0.000000</td>\n",
       "      <td>0.000000</td>\n",
       "      <td>0.000000</td>\n",
       "      <td>0.000000</td>\n",
       "    </tr>\n",
       "    <tr>\n",
       "      <th>75%</th>\n",
       "      <td>0.000000</td>\n",
       "      <td>0.000000</td>\n",
       "      <td>1.000000</td>\n",
       "      <td>1.000000</td>\n",
       "      <td>1.000000</td>\n",
       "      <td>0.000000</td>\n",
       "      <td>1.000000</td>\n",
       "      <td>0.000000</td>\n",
       "      <td>1.000000</td>\n",
       "      <td>0.000000</td>\n",
       "      <td>0.000000</td>\n",
       "      <td>0.00000</td>\n",
       "      <td>1.000000</td>\n",
       "      <td>0.000000</td>\n",
       "      <td>0.000000</td>\n",
       "      <td>0.000000</td>\n",
       "      <td>0.000000</td>\n",
       "      <td>0.000000</td>\n",
       "    </tr>\n",
       "    <tr>\n",
       "      <th>max</th>\n",
       "      <td>1.000000</td>\n",
       "      <td>1.000000</td>\n",
       "      <td>1.000000</td>\n",
       "      <td>1.000000</td>\n",
       "      <td>1.000000</td>\n",
       "      <td>1.000000</td>\n",
       "      <td>1.000000</td>\n",
       "      <td>1.000000</td>\n",
       "      <td>1.000000</td>\n",
       "      <td>1.000000</td>\n",
       "      <td>1.000000</td>\n",
       "      <td>1.00000</td>\n",
       "      <td>1.000000</td>\n",
       "      <td>1.000000</td>\n",
       "      <td>1.000000</td>\n",
       "      <td>1.000000</td>\n",
       "      <td>1.000000</td>\n",
       "      <td>1.000000</td>\n",
       "    </tr>\n",
       "  </tbody>\n",
       "</table>\n",
       "</div>"
      ],
      "text/plain": [
       "       opinion_seas_vacc_effective_2.0  opinion_seas_vacc_effective_3.0  \\\n",
       "count                     26707.000000                     26707.000000   \n",
       "mean                          0.082600                         0.045531   \n",
       "std                           0.275282                         0.208470   \n",
       "min                           0.000000                         0.000000   \n",
       "25%                           0.000000                         0.000000   \n",
       "50%                           0.000000                         0.000000   \n",
       "75%                           0.000000                         0.000000   \n",
       "max                           1.000000                         1.000000   \n",
       "\n",
       "       opinion_seas_vacc_effective_4.0  opinion_seas_vacc_effective_5.0  \\\n",
       "count                     26707.000000                     26707.000000   \n",
       "mean                          0.452728                         0.373423   \n",
       "std                           0.497770                         0.483722   \n",
       "min                           0.000000                         0.000000   \n",
       "25%                           0.000000                         0.000000   \n",
       "50%                           0.000000                         0.000000   \n",
       "75%                           1.000000                         1.000000   \n",
       "max                           1.000000                         1.000000   \n",
       "\n",
       "       opinion_seas_risk_2.0  opinion_seas_risk_3.0  opinion_seas_risk_4.0  \\\n",
       "count           26707.000000           26707.000000           26707.000000   \n",
       "mean                0.354514               0.025349               0.285693   \n",
       "std                 0.478375               0.157186               0.451752   \n",
       "min                 0.000000               0.000000               0.000000   \n",
       "25%                 0.000000               0.000000               0.000000   \n",
       "50%                 0.000000               0.000000               0.000000   \n",
       "75%                 1.000000               0.000000               1.000000   \n",
       "max                 1.000000               1.000000               1.000000   \n",
       "\n",
       "       opinion_seas_risk_5.0  opinion_seas_sick_from_vacc_2.0  \\\n",
       "count           26707.000000                     26707.000000   \n",
       "mean                0.110757                         0.285805   \n",
       "std                 0.313837                         0.451806   \n",
       "min                 0.000000                         0.000000   \n",
       "25%                 0.000000                         0.000000   \n",
       "50%                 0.000000                         0.000000   \n",
       "75%                 0.000000                         1.000000   \n",
       "max                 1.000000                         1.000000   \n",
       "\n",
       "       opinion_seas_sick_from_vacc_3.0  opinion_seas_sick_from_vacc_4.0  \\\n",
       "count                     26707.000000                     26707.000000   \n",
       "mean                          0.003520                         0.181675   \n",
       "std                           0.059223                         0.385584   \n",
       "min                           0.000000                         0.000000   \n",
       "25%                           0.000000                         0.000000   \n",
       "50%                           0.000000                         0.000000   \n",
       "75%                           0.000000                         0.000000   \n",
       "max                           1.000000                         1.000000   \n",
       "\n",
       "       opinion_seas_sick_from_vacc_5.0  household_adults_1.0  \\\n",
       "count                      26707.00000          26707.000000   \n",
       "mean                           0.06444              0.551279   \n",
       "std                            0.24554              0.497373   \n",
       "min                            0.00000              0.000000   \n",
       "25%                            0.00000              0.000000   \n",
       "50%                            0.00000              1.000000   \n",
       "75%                            0.00000              1.000000   \n",
       "max                            1.00000              1.000000   \n",
       "\n",
       "       household_adults_2.0  household_adults_3.0  household_children_1.0  \\\n",
       "count          26707.000000          26707.000000            26707.000000   \n",
       "mean               0.104954              0.042124                0.118883   \n",
       "std                0.306500              0.200875                0.323656   \n",
       "min                0.000000              0.000000                0.000000   \n",
       "25%                0.000000              0.000000                0.000000   \n",
       "50%                0.000000              0.000000                0.000000   \n",
       "75%                0.000000              0.000000                0.000000   \n",
       "max                1.000000              1.000000                1.000000   \n",
       "\n",
       "       household_children_2.0  household_children_3.0  \n",
       "count            26707.000000            26707.000000  \n",
       "mean                 0.107238                0.065414  \n",
       "std                  0.309421                0.247259  \n",
       "min                  0.000000                0.000000  \n",
       "25%                  0.000000                0.000000  \n",
       "50%                  0.000000                0.000000  \n",
       "75%                  0.000000                0.000000  \n",
       "max                  1.000000                1.000000  "
      ]
     },
     "execution_count": 20,
     "metadata": {},
     "output_type": "execute_result"
    }
   ],
   "source": [
    "# now all responses are either 0 (no) or 1 (yes)\n",
    "n2c_ohe.describe()"
   ]
  },
  {
   "cell_type": "code",
   "execution_count": 21,
   "metadata": {},
   "outputs": [],
   "source": [
    "# one-hot encoder requires input to be uniformly string \n",
    "from sklearn.preprocessing import LabelEncoder\n",
    "LE = LabelEncoder()\n",
    "\n",
    "cat_cols = data.select_dtypes(include=['object']).columns.to_list()\n",
    "data[cat_cols] = data[cat_cols].apply(lambda col: LE.fit_transform(col.astype(str)), axis=0)"
   ]
  },
  {
   "cell_type": "code",
   "execution_count": 22,
   "metadata": {},
   "outputs": [
    {
     "data": {
      "text/html": [
       "<div>\n",
       "<style scoped>\n",
       "    .dataframe tbody tr th:only-of-type {\n",
       "        vertical-align: middle;\n",
       "    }\n",
       "\n",
       "    .dataframe tbody tr th {\n",
       "        vertical-align: top;\n",
       "    }\n",
       "\n",
       "    .dataframe thead th {\n",
       "        text-align: right;\n",
       "    }\n",
       "</style>\n",
       "<table border=\"1\" class=\"dataframe\">\n",
       "  <thead>\n",
       "    <tr style=\"text-align: right;\">\n",
       "      <th></th>\n",
       "      <th>health_insurance_1</th>\n",
       "      <th>health_insurance_2</th>\n",
       "      <th>age_group_1</th>\n",
       "      <th>age_group_2</th>\n",
       "      <th>age_group_3</th>\n",
       "      <th>age_group_4</th>\n",
       "      <th>education_1</th>\n",
       "      <th>education_2</th>\n",
       "      <th>education_3</th>\n",
       "      <th>race_1</th>\n",
       "      <th>...</th>\n",
       "      <th>employment_occupation_13</th>\n",
       "      <th>employment_occupation_14</th>\n",
       "      <th>employment_occupation_15</th>\n",
       "      <th>employment_occupation_16</th>\n",
       "      <th>employment_occupation_17</th>\n",
       "      <th>employment_occupation_18</th>\n",
       "      <th>employment_occupation_19</th>\n",
       "      <th>employment_occupation_20</th>\n",
       "      <th>employment_occupation_21</th>\n",
       "      <th>employment_occupation_22</th>\n",
       "    </tr>\n",
       "  </thead>\n",
       "  <tbody>\n",
       "    <tr>\n",
       "      <th>0</th>\n",
       "      <td>1.0</td>\n",
       "      <td>0.0</td>\n",
       "      <td>0.0</td>\n",
       "      <td>0.0</td>\n",
       "      <td>1.0</td>\n",
       "      <td>0.0</td>\n",
       "      <td>1.0</td>\n",
       "      <td>0.0</td>\n",
       "      <td>0.0</td>\n",
       "      <td>0.0</td>\n",
       "      <td>...</td>\n",
       "      <td>0.0</td>\n",
       "      <td>0.0</td>\n",
       "      <td>0.0</td>\n",
       "      <td>0.0</td>\n",
       "      <td>0.0</td>\n",
       "      <td>0.0</td>\n",
       "      <td>0.0</td>\n",
       "      <td>0.0</td>\n",
       "      <td>1.0</td>\n",
       "      <td>0.0</td>\n",
       "    </tr>\n",
       "    <tr>\n",
       "      <th>1</th>\n",
       "      <td>1.0</td>\n",
       "      <td>0.0</td>\n",
       "      <td>1.0</td>\n",
       "      <td>0.0</td>\n",
       "      <td>0.0</td>\n",
       "      <td>0.0</td>\n",
       "      <td>0.0</td>\n",
       "      <td>0.0</td>\n",
       "      <td>0.0</td>\n",
       "      <td>0.0</td>\n",
       "      <td>...</td>\n",
       "      <td>0.0</td>\n",
       "      <td>0.0</td>\n",
       "      <td>0.0</td>\n",
       "      <td>0.0</td>\n",
       "      <td>0.0</td>\n",
       "      <td>0.0</td>\n",
       "      <td>1.0</td>\n",
       "      <td>0.0</td>\n",
       "      <td>0.0</td>\n",
       "      <td>0.0</td>\n",
       "    </tr>\n",
       "    <tr>\n",
       "      <th>2</th>\n",
       "      <td>0.0</td>\n",
       "      <td>1.0</td>\n",
       "      <td>0.0</td>\n",
       "      <td>0.0</td>\n",
       "      <td>0.0</td>\n",
       "      <td>0.0</td>\n",
       "      <td>0.0</td>\n",
       "      <td>1.0</td>\n",
       "      <td>0.0</td>\n",
       "      <td>0.0</td>\n",
       "      <td>...</td>\n",
       "      <td>0.0</td>\n",
       "      <td>0.0</td>\n",
       "      <td>0.0</td>\n",
       "      <td>0.0</td>\n",
       "      <td>0.0</td>\n",
       "      <td>0.0</td>\n",
       "      <td>0.0</td>\n",
       "      <td>0.0</td>\n",
       "      <td>1.0</td>\n",
       "      <td>0.0</td>\n",
       "    </tr>\n",
       "    <tr>\n",
       "      <th>3</th>\n",
       "      <td>0.0</td>\n",
       "      <td>1.0</td>\n",
       "      <td>0.0</td>\n",
       "      <td>0.0</td>\n",
       "      <td>0.0</td>\n",
       "      <td>1.0</td>\n",
       "      <td>0.0</td>\n",
       "      <td>0.0</td>\n",
       "      <td>0.0</td>\n",
       "      <td>0.0</td>\n",
       "      <td>...</td>\n",
       "      <td>0.0</td>\n",
       "      <td>0.0</td>\n",
       "      <td>0.0</td>\n",
       "      <td>0.0</td>\n",
       "      <td>0.0</td>\n",
       "      <td>0.0</td>\n",
       "      <td>0.0</td>\n",
       "      <td>0.0</td>\n",
       "      <td>1.0</td>\n",
       "      <td>0.0</td>\n",
       "    </tr>\n",
       "    <tr>\n",
       "      <th>4</th>\n",
       "      <td>0.0</td>\n",
       "      <td>1.0</td>\n",
       "      <td>0.0</td>\n",
       "      <td>1.0</td>\n",
       "      <td>0.0</td>\n",
       "      <td>0.0</td>\n",
       "      <td>0.0</td>\n",
       "      <td>0.0</td>\n",
       "      <td>1.0</td>\n",
       "      <td>0.0</td>\n",
       "      <td>...</td>\n",
       "      <td>0.0</td>\n",
       "      <td>0.0</td>\n",
       "      <td>0.0</td>\n",
       "      <td>0.0</td>\n",
       "      <td>0.0</td>\n",
       "      <td>0.0</td>\n",
       "      <td>0.0</td>\n",
       "      <td>0.0</td>\n",
       "      <td>0.0</td>\n",
       "      <td>0.0</td>\n",
       "    </tr>\n",
       "  </tbody>\n",
       "</table>\n",
       "<p>5 rows × 73 columns</p>\n",
       "</div>"
      ],
      "text/plain": [
       "   health_insurance_1  health_insurance_2  age_group_1  age_group_2  \\\n",
       "0                 1.0                 0.0          0.0          0.0   \n",
       "1                 1.0                 0.0          1.0          0.0   \n",
       "2                 0.0                 1.0          0.0          0.0   \n",
       "3                 0.0                 1.0          0.0          0.0   \n",
       "4                 0.0                 1.0          0.0          1.0   \n",
       "\n",
       "   age_group_3  age_group_4  education_1  education_2  education_3  race_1  \\\n",
       "0          1.0          0.0          1.0          0.0          0.0     0.0   \n",
       "1          0.0          0.0          0.0          0.0          0.0     0.0   \n",
       "2          0.0          0.0          0.0          1.0          0.0     0.0   \n",
       "3          0.0          1.0          0.0          0.0          0.0     0.0   \n",
       "4          0.0          0.0          0.0          0.0          1.0     0.0   \n",
       "\n",
       "   ...  employment_occupation_13  employment_occupation_14  \\\n",
       "0  ...                       0.0                       0.0   \n",
       "1  ...                       0.0                       0.0   \n",
       "2  ...                       0.0                       0.0   \n",
       "3  ...                       0.0                       0.0   \n",
       "4  ...                       0.0                       0.0   \n",
       "\n",
       "   employment_occupation_15  employment_occupation_16  \\\n",
       "0                       0.0                       0.0   \n",
       "1                       0.0                       0.0   \n",
       "2                       0.0                       0.0   \n",
       "3                       0.0                       0.0   \n",
       "4                       0.0                       0.0   \n",
       "\n",
       "   employment_occupation_17  employment_occupation_18  \\\n",
       "0                       0.0                       0.0   \n",
       "1                       0.0                       0.0   \n",
       "2                       0.0                       0.0   \n",
       "3                       0.0                       0.0   \n",
       "4                       0.0                       0.0   \n",
       "\n",
       "   employment_occupation_19  employment_occupation_20  \\\n",
       "0                       0.0                       0.0   \n",
       "1                       1.0                       0.0   \n",
       "2                       0.0                       0.0   \n",
       "3                       0.0                       0.0   \n",
       "4                       0.0                       0.0   \n",
       "\n",
       "   employment_occupation_21  employment_occupation_22  \n",
       "0                       1.0                       0.0  \n",
       "1                       0.0                       0.0  \n",
       "2                       1.0                       0.0  \n",
       "3                       1.0                       0.0  \n",
       "4                       0.0                       0.0  \n",
       "\n",
       "[5 rows x 73 columns]"
      ]
     },
     "execution_count": 22,
     "metadata": {},
     "output_type": "execute_result"
    }
   ],
   "source": [
    "# now one-hot encode object dtype columns\n",
    "from sklearn.preprocessing import OneHotEncoder\n",
    "encoder = OneHotEncoder(sparse=False, drop='first')\n",
    "\n",
    "cat_cols_ohe = encoder.fit_transform(data[cat_cols])\n",
    "cat_ohe = pd.DataFrame(cat_cols_ohe,columns=encoder.get_feature_names(cat_cols),\n",
    "                     index=data.index)\n",
    "cat_ohe.head()"
   ]
  },
  {
   "cell_type": "code",
   "execution_count": 23,
   "metadata": {},
   "outputs": [],
   "source": [
    "# now that we have all the columns uniform we need to combined into one dataframe\n",
    "df = pd.concat([data, cat_ohe, n2c_ohe], axis = 1)"
   ]
  },
  {
   "cell_type": "code",
   "execution_count": 24,
   "metadata": {},
   "outputs": [],
   "source": [
    "# we need to remove all the orginal columns that were one-hot encoded\n",
    "df.drop(columns = cat_cols, inplace=True)\n",
    "df.drop(columns = num2cat, inplace=True)"
   ]
  },
  {
   "cell_type": "code",
   "execution_count": 25,
   "metadata": {},
   "outputs": [],
   "source": [
    "# last step of basic cleaning is to drop the 'respondent_id' column it does \n",
    "# not contain useful data as it is just a way to id the indivual that took the survey\n",
    "df.drop(\"respondent_id\", axis=1, inplace = True)"
   ]
  },
  {
   "cell_type": "code",
   "execution_count": 26,
   "metadata": {},
   "outputs": [
    {
     "data": {
      "text/html": [
       "<div>\n",
       "<style scoped>\n",
       "    .dataframe tbody tr th:only-of-type {\n",
       "        vertical-align: middle;\n",
       "    }\n",
       "\n",
       "    .dataframe tbody tr th {\n",
       "        vertical-align: top;\n",
       "    }\n",
       "\n",
       "    .dataframe thead th {\n",
       "        text-align: right;\n",
       "    }\n",
       "</style>\n",
       "<table border=\"1\" class=\"dataframe\">\n",
       "  <thead>\n",
       "    <tr style=\"text-align: right;\">\n",
       "      <th></th>\n",
       "      <th>behavioral_antiviral_meds</th>\n",
       "      <th>behavioral_avoidance</th>\n",
       "      <th>behavioral_face_mask</th>\n",
       "      <th>behavioral_wash_hands</th>\n",
       "      <th>behavioral_large_gatherings</th>\n",
       "      <th>behavioral_outside_home</th>\n",
       "      <th>behavioral_touch_face</th>\n",
       "      <th>doctor_recc_seasonal</th>\n",
       "      <th>chronic_med_condition</th>\n",
       "      <th>child_under_6_months</th>\n",
       "      <th>...</th>\n",
       "      <th>opinion_seas_sick_from_vacc_2.0</th>\n",
       "      <th>opinion_seas_sick_from_vacc_3.0</th>\n",
       "      <th>opinion_seas_sick_from_vacc_4.0</th>\n",
       "      <th>opinion_seas_sick_from_vacc_5.0</th>\n",
       "      <th>household_adults_1.0</th>\n",
       "      <th>household_adults_2.0</th>\n",
       "      <th>household_adults_3.0</th>\n",
       "      <th>household_children_1.0</th>\n",
       "      <th>household_children_2.0</th>\n",
       "      <th>household_children_3.0</th>\n",
       "    </tr>\n",
       "  </thead>\n",
       "  <tbody>\n",
       "    <tr>\n",
       "      <th>count</th>\n",
       "      <td>26707.000000</td>\n",
       "      <td>26707.000000</td>\n",
       "      <td>26707.000000</td>\n",
       "      <td>26707.000000</td>\n",
       "      <td>26707.000000</td>\n",
       "      <td>26707.000000</td>\n",
       "      <td>26707.000000</td>\n",
       "      <td>26707.000000</td>\n",
       "      <td>26707.000000</td>\n",
       "      <td>26707.000000</td>\n",
       "      <td>...</td>\n",
       "      <td>26707.000000</td>\n",
       "      <td>26707.000000</td>\n",
       "      <td>26707.000000</td>\n",
       "      <td>26707.00000</td>\n",
       "      <td>26707.000000</td>\n",
       "      <td>26707.000000</td>\n",
       "      <td>26707.000000</td>\n",
       "      <td>26707.000000</td>\n",
       "      <td>26707.000000</td>\n",
       "      <td>26707.000000</td>\n",
       "    </tr>\n",
       "    <tr>\n",
       "      <th>mean</th>\n",
       "      <td>0.048714</td>\n",
       "      <td>0.727749</td>\n",
       "      <td>0.068933</td>\n",
       "      <td>0.825888</td>\n",
       "      <td>0.357472</td>\n",
       "      <td>0.336279</td>\n",
       "      <td>0.678811</td>\n",
       "      <td>0.303067</td>\n",
       "      <td>0.272962</td>\n",
       "      <td>0.080054</td>\n",
       "      <td>...</td>\n",
       "      <td>0.285805</td>\n",
       "      <td>0.003520</td>\n",
       "      <td>0.181675</td>\n",
       "      <td>0.06444</td>\n",
       "      <td>0.551279</td>\n",
       "      <td>0.104954</td>\n",
       "      <td>0.042124</td>\n",
       "      <td>0.118883</td>\n",
       "      <td>0.107238</td>\n",
       "      <td>0.065414</td>\n",
       "    </tr>\n",
       "    <tr>\n",
       "      <th>std</th>\n",
       "      <td>0.215273</td>\n",
       "      <td>0.445127</td>\n",
       "      <td>0.253345</td>\n",
       "      <td>0.379213</td>\n",
       "      <td>0.479264</td>\n",
       "      <td>0.472444</td>\n",
       "      <td>0.466942</td>\n",
       "      <td>0.459592</td>\n",
       "      <td>0.445490</td>\n",
       "      <td>0.271382</td>\n",
       "      <td>...</td>\n",
       "      <td>0.451806</td>\n",
       "      <td>0.059223</td>\n",
       "      <td>0.385584</td>\n",
       "      <td>0.24554</td>\n",
       "      <td>0.497373</td>\n",
       "      <td>0.306500</td>\n",
       "      <td>0.200875</td>\n",
       "      <td>0.323656</td>\n",
       "      <td>0.309421</td>\n",
       "      <td>0.247259</td>\n",
       "    </tr>\n",
       "    <tr>\n",
       "      <th>min</th>\n",
       "      <td>0.000000</td>\n",
       "      <td>0.000000</td>\n",
       "      <td>0.000000</td>\n",
       "      <td>0.000000</td>\n",
       "      <td>0.000000</td>\n",
       "      <td>0.000000</td>\n",
       "      <td>0.000000</td>\n",
       "      <td>0.000000</td>\n",
       "      <td>0.000000</td>\n",
       "      <td>0.000000</td>\n",
       "      <td>...</td>\n",
       "      <td>0.000000</td>\n",
       "      <td>0.000000</td>\n",
       "      <td>0.000000</td>\n",
       "      <td>0.00000</td>\n",
       "      <td>0.000000</td>\n",
       "      <td>0.000000</td>\n",
       "      <td>0.000000</td>\n",
       "      <td>0.000000</td>\n",
       "      <td>0.000000</td>\n",
       "      <td>0.000000</td>\n",
       "    </tr>\n",
       "    <tr>\n",
       "      <th>25%</th>\n",
       "      <td>0.000000</td>\n",
       "      <td>0.000000</td>\n",
       "      <td>0.000000</td>\n",
       "      <td>1.000000</td>\n",
       "      <td>0.000000</td>\n",
       "      <td>0.000000</td>\n",
       "      <td>0.000000</td>\n",
       "      <td>0.000000</td>\n",
       "      <td>0.000000</td>\n",
       "      <td>0.000000</td>\n",
       "      <td>...</td>\n",
       "      <td>0.000000</td>\n",
       "      <td>0.000000</td>\n",
       "      <td>0.000000</td>\n",
       "      <td>0.00000</td>\n",
       "      <td>0.000000</td>\n",
       "      <td>0.000000</td>\n",
       "      <td>0.000000</td>\n",
       "      <td>0.000000</td>\n",
       "      <td>0.000000</td>\n",
       "      <td>0.000000</td>\n",
       "    </tr>\n",
       "    <tr>\n",
       "      <th>50%</th>\n",
       "      <td>0.000000</td>\n",
       "      <td>1.000000</td>\n",
       "      <td>0.000000</td>\n",
       "      <td>1.000000</td>\n",
       "      <td>0.000000</td>\n",
       "      <td>0.000000</td>\n",
       "      <td>1.000000</td>\n",
       "      <td>0.000000</td>\n",
       "      <td>0.000000</td>\n",
       "      <td>0.000000</td>\n",
       "      <td>...</td>\n",
       "      <td>0.000000</td>\n",
       "      <td>0.000000</td>\n",
       "      <td>0.000000</td>\n",
       "      <td>0.00000</td>\n",
       "      <td>1.000000</td>\n",
       "      <td>0.000000</td>\n",
       "      <td>0.000000</td>\n",
       "      <td>0.000000</td>\n",
       "      <td>0.000000</td>\n",
       "      <td>0.000000</td>\n",
       "    </tr>\n",
       "    <tr>\n",
       "      <th>75%</th>\n",
       "      <td>0.000000</td>\n",
       "      <td>1.000000</td>\n",
       "      <td>0.000000</td>\n",
       "      <td>1.000000</td>\n",
       "      <td>1.000000</td>\n",
       "      <td>1.000000</td>\n",
       "      <td>1.000000</td>\n",
       "      <td>1.000000</td>\n",
       "      <td>1.000000</td>\n",
       "      <td>0.000000</td>\n",
       "      <td>...</td>\n",
       "      <td>1.000000</td>\n",
       "      <td>0.000000</td>\n",
       "      <td>0.000000</td>\n",
       "      <td>0.00000</td>\n",
       "      <td>1.000000</td>\n",
       "      <td>0.000000</td>\n",
       "      <td>0.000000</td>\n",
       "      <td>0.000000</td>\n",
       "      <td>0.000000</td>\n",
       "      <td>0.000000</td>\n",
       "    </tr>\n",
       "    <tr>\n",
       "      <th>max</th>\n",
       "      <td>1.000000</td>\n",
       "      <td>1.000000</td>\n",
       "      <td>1.000000</td>\n",
       "      <td>1.000000</td>\n",
       "      <td>1.000000</td>\n",
       "      <td>1.000000</td>\n",
       "      <td>1.000000</td>\n",
       "      <td>1.000000</td>\n",
       "      <td>1.000000</td>\n",
       "      <td>1.000000</td>\n",
       "      <td>...</td>\n",
       "      <td>1.000000</td>\n",
       "      <td>1.000000</td>\n",
       "      <td>1.000000</td>\n",
       "      <td>1.00000</td>\n",
       "      <td>1.000000</td>\n",
       "      <td>1.000000</td>\n",
       "      <td>1.000000</td>\n",
       "      <td>1.000000</td>\n",
       "      <td>1.000000</td>\n",
       "      <td>1.000000</td>\n",
       "    </tr>\n",
       "  </tbody>\n",
       "</table>\n",
       "<p>8 rows × 103 columns</p>\n",
       "</div>"
      ],
      "text/plain": [
       "       behavioral_antiviral_meds  behavioral_avoidance  behavioral_face_mask  \\\n",
       "count               26707.000000          26707.000000          26707.000000   \n",
       "mean                    0.048714              0.727749              0.068933   \n",
       "std                     0.215273              0.445127              0.253345   \n",
       "min                     0.000000              0.000000              0.000000   \n",
       "25%                     0.000000              0.000000              0.000000   \n",
       "50%                     0.000000              1.000000              0.000000   \n",
       "75%                     0.000000              1.000000              0.000000   \n",
       "max                     1.000000              1.000000              1.000000   \n",
       "\n",
       "       behavioral_wash_hands  behavioral_large_gatherings  \\\n",
       "count           26707.000000                 26707.000000   \n",
       "mean                0.825888                     0.357472   \n",
       "std                 0.379213                     0.479264   \n",
       "min                 0.000000                     0.000000   \n",
       "25%                 1.000000                     0.000000   \n",
       "50%                 1.000000                     0.000000   \n",
       "75%                 1.000000                     1.000000   \n",
       "max                 1.000000                     1.000000   \n",
       "\n",
       "       behavioral_outside_home  behavioral_touch_face  doctor_recc_seasonal  \\\n",
       "count             26707.000000           26707.000000          26707.000000   \n",
       "mean                  0.336279               0.678811              0.303067   \n",
       "std                   0.472444               0.466942              0.459592   \n",
       "min                   0.000000               0.000000              0.000000   \n",
       "25%                   0.000000               0.000000              0.000000   \n",
       "50%                   0.000000               1.000000              0.000000   \n",
       "75%                   1.000000               1.000000              1.000000   \n",
       "max                   1.000000               1.000000              1.000000   \n",
       "\n",
       "       chronic_med_condition  child_under_6_months  ...  \\\n",
       "count           26707.000000          26707.000000  ...   \n",
       "mean                0.272962              0.080054  ...   \n",
       "std                 0.445490              0.271382  ...   \n",
       "min                 0.000000              0.000000  ...   \n",
       "25%                 0.000000              0.000000  ...   \n",
       "50%                 0.000000              0.000000  ...   \n",
       "75%                 1.000000              0.000000  ...   \n",
       "max                 1.000000              1.000000  ...   \n",
       "\n",
       "       opinion_seas_sick_from_vacc_2.0  opinion_seas_sick_from_vacc_3.0  \\\n",
       "count                     26707.000000                     26707.000000   \n",
       "mean                          0.285805                         0.003520   \n",
       "std                           0.451806                         0.059223   \n",
       "min                           0.000000                         0.000000   \n",
       "25%                           0.000000                         0.000000   \n",
       "50%                           0.000000                         0.000000   \n",
       "75%                           1.000000                         0.000000   \n",
       "max                           1.000000                         1.000000   \n",
       "\n",
       "       opinion_seas_sick_from_vacc_4.0  opinion_seas_sick_from_vacc_5.0  \\\n",
       "count                     26707.000000                      26707.00000   \n",
       "mean                          0.181675                          0.06444   \n",
       "std                           0.385584                          0.24554   \n",
       "min                           0.000000                          0.00000   \n",
       "25%                           0.000000                          0.00000   \n",
       "50%                           0.000000                          0.00000   \n",
       "75%                           0.000000                          0.00000   \n",
       "max                           1.000000                          1.00000   \n",
       "\n",
       "       household_adults_1.0  household_adults_2.0  household_adults_3.0  \\\n",
       "count          26707.000000          26707.000000          26707.000000   \n",
       "mean               0.551279              0.104954              0.042124   \n",
       "std                0.497373              0.306500              0.200875   \n",
       "min                0.000000              0.000000              0.000000   \n",
       "25%                0.000000              0.000000              0.000000   \n",
       "50%                1.000000              0.000000              0.000000   \n",
       "75%                1.000000              0.000000              0.000000   \n",
       "max                1.000000              1.000000              1.000000   \n",
       "\n",
       "       household_children_1.0  household_children_2.0  household_children_3.0  \n",
       "count            26707.000000            26707.000000            26707.000000  \n",
       "mean                 0.118883                0.107238                0.065414  \n",
       "std                  0.323656                0.309421                0.247259  \n",
       "min                  0.000000                0.000000                0.000000  \n",
       "25%                  0.000000                0.000000                0.000000  \n",
       "50%                  0.000000                0.000000                0.000000  \n",
       "75%                  0.000000                0.000000                0.000000  \n",
       "max                  1.000000                1.000000                1.000000  \n",
       "\n",
       "[8 rows x 103 columns]"
      ]
     },
     "execution_count": 26,
     "metadata": {},
     "output_type": "execute_result"
    }
   ],
   "source": [
    "# we see all columnns are binary now\n",
    "df.describe()"
   ]
  },
  {
   "cell_type": "markdown",
   "metadata": {},
   "source": [
    "## Model"
   ]
  },
  {
   "cell_type": "markdown",
   "metadata": {},
   "source": [
    "All the basic data cleaning is complete. Now the data can be split in training and testing sets and we can start model building on the training data. We don't build the model on the testing data as that will be used to determine how well our models work on unseen data."
   ]
  },
  {
   "cell_type": "markdown",
   "metadata": {},
   "source": [
    "### Train Test Split"
   ]
  },
  {
   "cell_type": "code",
   "execution_count": 27,
   "metadata": {},
   "outputs": [],
   "source": [
    "# perform a test train split\n",
    "from sklearn.model_selection import train_test_split\n",
    "\n",
    "target = 'seasonal_vaccine'\n",
    "\n",
    "y = df[target]\n",
    "X = df.drop(target, axis=1)\n",
    "\n",
    "X_train, X_test, y_train, y_test = train_test_split(X, y, test_size=0.25)"
   ]
  },
  {
   "cell_type": "code",
   "execution_count": 28,
   "metadata": {},
   "outputs": [
    {
     "name": "stdout",
     "output_type": "stream",
     "text": [
      "Train percent vaccinated: 0.464153769345981\n",
      "Test percent vaccinated:  0.4699715441066347\n"
     ]
    }
   ],
   "source": [
    "# out of curiosity we can look at ther % of vaccinated people in the \n",
    "# train and test data as a reference to how well divided the data is \n",
    "\n",
    "print(\"Train percent vaccinated:\", y_train.value_counts(normalize=True)[1])\n",
    "print(\"Test percent vaccinated: \", y_test.value_counts(normalize=True)[1])"
   ]
  },
  {
   "cell_type": "markdown",
   "metadata": {},
   "source": [
    "The first model I will run is a logistic regression model. This is a very simple model which makes a good starting point to understanding the data."
   ]
  },
  {
   "cell_type": "code",
   "execution_count": 29,
   "metadata": {},
   "outputs": [
    {
     "data": {
      "text/plain": [
       "LogisticRegression(C=1000000000000.0, max_iter=5000)"
      ]
     },
     "execution_count": 29,
     "metadata": {},
     "output_type": "execute_result"
    }
   ],
   "source": [
    "# Import functions needed\n",
    "from sklearn.linear_model import LogisticRegression\n",
    "from sklearn.model_selection import cross_val_score\n",
    "\n",
    "# Set a C value, this tells the model how to choose the parameters & how much \n",
    "# weight to but on the training data a low C will be a more complex model but risks over fitting \n",
    "log_reg = LogisticRegression(max_iter=5000, C=1e12)\n",
    "log_reg.fit(X_train, y_train)\n"
   ]
  },
  {
   "cell_type": "code",
   "execution_count": 30,
   "metadata": {},
   "outputs": [],
   "source": [
    "# make function to view model performance \n",
    "from sklearn import metrics\n",
    "def model_eval(model, X_test, y_test,\n",
    "               normalize='true', return_fig=False,\n",
    "               classes=None, figsize=(14, 6)):\n",
    "    # Get Predictions\n",
    "    y_hat_train = model.predict(X_train)\n",
    "    y_hat_test = model.predict(X_test)\n",
    "    \n",
    "    # Scores \n",
    "    print(dashes)\n",
    "    print(\"MODEL EVALUATION\")\n",
    "    print(dashes)\n",
    "    \n",
    "    print(f'Accuracy : {model.score(X_train,y_train)}')\n",
    "    print(f'Precision : {metrics.precision_score(y_test, y_hat_test)}')\n",
    "    print(f'Recall : {metrics.recall_score(y_test, y_hat_test)}')\n",
    "    print(f'f1: {metrics.f1_score(y_test,y_hat_test)}')\n",
    "\n",
    "    \n",
    "    print(dashes)\n",
    "    \n",
    "    fig, axes = plt.subplots(ncols=2, figsize=figsize)\n",
    "    \n",
    "    ## Confusion Matrix\n",
    "    metrics.plot_confusion_matrix(model, X_test,\n",
    "                                  y_test, cmap='Greens',\n",
    "                                  normalize='true',\n",
    "                                  display_labels=classes,\n",
    "                                  ax=axes[0])\n",
    "    ## Plot ROC Curve\n",
    "    metrics.plot_roc_curve(model,X_test,y_test,ax=axes[1])\n",
    "\n",
    "    ax = axes[1]\n",
    "    ax.legend()\n",
    "    ax.plot([0,1],[0,1],ls=':')\n",
    "    ax.grid()\n",
    "    \n",
    "    if return_fig:\n",
    "        return fig,axes\n"
   ]
  },
  {
   "cell_type": "code",
   "execution_count": 31,
   "metadata": {},
   "outputs": [
    {
     "name": "stdout",
     "output_type": "stream",
     "text": [
      "----------------------------------------\n",
      "MODEL EVALUATION\n",
      "----------------------------------------\n",
      "Accuracy : 0.7845731402895657\n",
      "Precision : 0.7813969106783076\n",
      "Recall : 0.741555130656469\n",
      "f1: 0.7609548724656638\n",
      "----------------------------------------\n"
     ]
    },
    {
     "data": {
      "image/png": "[encoded data removed]",
      "text/plain": [
       "<Figure size 1008x432 with 3 Axes>"
      ]
     },
     "metadata": {
      "needs_background": "light"
     },
     "output_type": "display_data"
    }
   ],
   "source": [
    "# set the fuction to the tree baseline model\n",
    "model = log_reg\n",
    "log_reg.fit(X_train, y_train)\n",
    "\n",
    "model_eval(model,X_test,y_test,\n",
    "           classes=['Not Vaccinated','Vaccinated']);"
   ]
  },
  {
   "cell_type": "markdown",
   "metadata": {},
   "source": [
    "The confusion matrix shows the true negative(top left), False positive(top right), false negative(bottom left), and true positive(bottom right).\n",
    "\n",
    "Next, the goal is to raise the accuracy by tuning the model. The confusion matrix is helpful to get a better understanding of what the model is doing wrong."
   ]
  },
  {
   "cell_type": "markdown",
   "metadata": {},
   "source": [
    "### Model 2\n",
    "\n",
    "To improve the model I will use decision trees. Decision trees look for ways to split the features to lower uncertainty. Once a basic decision tree model is made the hyperparameters can be changed to improve the model."
   ]
  },
  {
   "cell_type": "code",
   "execution_count": 32,
   "metadata": {},
   "outputs": [
    {
     "name": "stdout",
     "output_type": "stream",
     "text": [
      "----------------------------------------\n",
      "MODEL EVALUATION\n",
      "----------------------------------------\n",
      "Accuracy : 0.9998502246630054\n",
      "Precision : 0.6667745066321579\n",
      "Recall : 0.6567877629063098\n",
      "f1: 0.6617434580189436\n",
      "----------------------------------------\n"
     ]
    },
    {
     "data": {
      "image/png": "[encoded data removed]",
      "text/plain": [
       "<Figure size 1008x432 with 3 Axes>"
      ]
     },
     "metadata": {
      "needs_background": "light"
     },
     "output_type": "display_data"
    }
   ],
   "source": [
    "# make basic decision tree model\n",
    "from sklearn.tree import DecisionTreeClassifier\n",
    "\n",
    "tree_baseline = DecisionTreeClassifier()\n",
    "tree_baseline.fit(X_train, y_train)\n",
    "\n",
    "# set the fuction to the tree baseline model\n",
    "model = tree_baseline\n",
    "tree_baseline.fit(X_train, y_train)\n",
    "\n",
    "model_eval(model,X_test,y_test,\n",
    "           classes=['Not Vaccinated','Vaccinated']);\n"
   ]
  },
  {
   "cell_type": "markdown",
   "metadata": {},
   "source": [
    "The accuracy is very high, there is a chance this is over fitting. Over fitting is not good since that means there is a greater chance it wont be able to predict the unseen test data well. We can look at a confusion matrix to see how well it actually does predict. The basic Decision tree model did not do well predicting the unseen data. Lets tune the decision tree and try to reduce the over fitting."
   ]
  },
  {
   "cell_type": "code",
   "execution_count": 33,
   "metadata": {},
   "outputs": [],
   "source": [
    "#view the 10 most important features\n",
    "def plot_importance(model, X_train, figsize=(10,10)):\n",
    "    \n",
    "    features = X_train.columns\n",
    "    importances = model.feature_importances_\n",
    "    indices = np.argsort(importances)\n",
    "    num_features = 10\n",
    "    \n",
    "    plt.title('Feature Importances')\n",
    "    plt.barh(range(num_features), importances[indices[-num_features:]], color='cadetblue', align='center')\n",
    "    plt.yticks(range(num_features), [features[i] for i in indices[-num_features:]])\n",
    "    plt.xlabel('Relative Importance')\n",
    "    plt.show()"
   ]
  },
  {
   "cell_type": "code",
   "execution_count": 34,
   "metadata": {},
   "outputs": [
    {
     "data": {
      "image/png": "[encoded data removed]",
      "text/plain": [
       "<Figure size 432x288 with 1 Axes>"
      ]
     },
     "metadata": {
      "needs_background": "light"
     },
     "output_type": "display_data"
    }
   ],
   "source": [
    "#feature importance is what the tree decided to split on \n",
    "plot_importance(model,X_test)"
   ]
  },
  {
   "cell_type": "markdown",
   "metadata": {},
   "source": [
    "## Model 3"
   ]
  },
  {
   "cell_type": "markdown",
   "metadata": {},
   "source": [
    "We can uses GridSearch CV in sklearn to find the best parameters to use to improve the decision tree model."
   ]
  },
  {
   "cell_type": "code",
   "execution_count": 35,
   "metadata": {},
   "outputs": [],
   "source": [
    "# imports needed for grid search\n",
    "import warnings\n",
    "warnings.filterwarnings('ignore')\n",
    "from sklearn.model_selection import GridSearchCV, RandomizedSearchCV"
   ]
  },
  {
   "cell_type": "code",
   "execution_count": 36,
   "metadata": {},
   "outputs": [],
   "source": [
    "# set parameters and grid search\n",
    "param = {\n",
    "    'criterion': ['gini', 'entropy'],\n",
    "    'max_depth': [ 3, 5, 7],\n",
    "    'min_samples_split': [2, 5, 10],\n",
    "    'min_samples_leaf': [1, 2, 3, 4, 5, 6]}\n",
    "\n",
    "gridsearch = GridSearchCV(estimator=tree_baseline,\n",
    "                          param_grid=param)"
   ]
  },
  {
   "cell_type": "code",
   "execution_count": 37,
   "metadata": {},
   "outputs": [
    {
     "data": {
      "text/plain": [
       "{'criterion': 'gini',\n",
       " 'max_depth': 7,\n",
       " 'min_samples_leaf': 5,\n",
       " 'min_samples_split': 2}"
      ]
     },
     "execution_count": 37,
     "metadata": {},
     "output_type": "execute_result"
    }
   ],
   "source": [
    "# Run search & takes a min or two\n",
    "gridsearch.fit(X_train, y_train)\n",
    "gridsearch.best_params_"
   ]
  },
  {
   "cell_type": "code",
   "execution_count": 38,
   "metadata": {},
   "outputs": [
    {
     "data": {
      "text/plain": [
       "{'criterion': 'entropy',\n",
       " 'max_depth': 8,\n",
       " 'min_samples_leaf': 3,\n",
       " 'min_samples_split': 5}"
      ]
     },
     "execution_count": 38,
     "metadata": {},
     "output_type": "execute_result"
    }
   ],
   "source": [
    "# run the gridsearch one more time based on the best parameters to see if we can find something better\n",
    "param_2 = {\n",
    "    'criterion': ['entropy'],\n",
    "    'max_depth': [ 6, 7, 8],\n",
    "    'min_samples_split': [4, 5, 6],\n",
    "    'min_samples_leaf': [1, 2, 3]}\n",
    "\n",
    "gridsearch_2 = GridSearchCV(estimator=tree_baseline,\n",
    "                          param_grid=param_2)\n",
    "\n",
    "# Run search & takes a min or two\n",
    "gridsearch_2.fit(X_train, y_train)\n",
    "gridsearch_2.best_params_"
   ]
  },
  {
   "cell_type": "code",
   "execution_count": 39,
   "metadata": {},
   "outputs": [
    {
     "data": {
      "text/plain": [
       "{'criterion': 'entropy',\n",
       " 'max_depth': 7,\n",
       " 'min_samples_leaf': 4,\n",
       " 'min_samples_split': 5}"
      ]
     },
     "execution_count": 39,
     "metadata": {},
     "output_type": "execute_result"
    }
   ],
   "source": [
    "# one more time to make sure that min_sample_leaf is the best it can be\n",
    "param_3 = {\n",
    "    'criterion': ['entropy'],\n",
    "    'max_depth': [ 7],\n",
    "    'min_samples_split': [5],\n",
    "    'min_samples_leaf': [3, 4, 5]}\n",
    "\n",
    "gridsearch_3 = GridSearchCV(estimator=tree_baseline,\n",
    "                          param_grid=param_3)\n",
    "\n",
    "# Run search & takes a min or two\n",
    "gridsearch_3.fit(X_train, y_train)\n",
    "gridsearch_3.best_params_"
   ]
  },
  {
   "cell_type": "code",
   "execution_count": 40,
   "metadata": {},
   "outputs": [
    {
     "name": "stdout",
     "output_type": "stream",
     "text": [
      "----------------------------------------\n",
      "MODEL EVALUATION\n",
      "----------------------------------------\n",
      "Accuracy : 0.7694458312531203\n",
      "Precision : 0.7721293992179168\n",
      "Recall : 0.6921606118546845\n",
      "f1: 0.7299613510334397\n",
      "----------------------------------------\n"
     ]
    },
    {
     "data": {
      "image/png": "[encoded data removed]",
      "text/plain": [
       "<Figure size 1008x432 with 3 Axes>"
      ]
     },
     "metadata": {
      "needs_background": "light"
     },
     "output_type": "display_data"
    }
   ],
   "source": [
    "# Run the model evaluation with param_3 to see how it did\n",
    "params = gridsearch_3.best_params_\n",
    "model = DecisionTreeClassifier(**params)\n",
    "model.fit(X_train, y_train)\n",
    "\n",
    "model_eval(model,X_test,y_test,\n",
    "           classes=['Not Vaccinated','Vaccinated']);\n"
   ]
  },
  {
   "cell_type": "markdown",
   "metadata": {},
   "source": [
    "Wow, thats a lot better than the first decision tree model! We can see the improvement in the confusion matrix as the number of false pos & false negs dropped. We also see a much better looking AUC curve. \n",
    "\n",
    "Accuracy dropped, but before there was an accuracy of 0.99, which was too perfect and a sign of overfitting, the Accuracy dropping contributes to one of the reasons why this model is actually better. "
   ]
  },
  {
   "cell_type": "code",
   "execution_count": 41,
   "metadata": {
    "scrolled": true
   },
   "outputs": [
    {
     "data": {
      "image/png": "[encoded data removed]",
      "text/plain": [
       "<Figure size 432x288 with 1 Axes>"
      ]
     },
     "metadata": {
      "needs_background": "light"
     },
     "output_type": "display_data"
    }
   ],
   "source": [
    "#feature importance is what the tree decided to split on \n",
    "plot_importance(model,X_test)"
   ]
  },
  {
   "cell_type": "markdown",
   "metadata": {},
   "source": [
    "To interpret, the model is indicating that a person's opinion on the seasonal vaccine effectiveness has the greatest impact on whether a person gets vaccinated or not. "
   ]
  },
  {
   "cell_type": "markdown",
   "metadata": {},
   "source": [
    "## Model 4\n",
    "\n",
    "Next, we can add on to the decision tree model and take the ensemble approach. Ensembles stack multiple models to build a high performing model. Let's start with adding a random forest model. "
   ]
  },
  {
   "cell_type": "code",
   "execution_count": 42,
   "metadata": {},
   "outputs": [
    {
     "data": {
      "text/plain": [
       "RandomForestClassifier()"
      ]
     },
     "execution_count": 42,
     "metadata": {},
     "output_type": "execute_result"
    }
   ],
   "source": [
    "# Import Random Forest\n",
    "from sklearn.ensemble import RandomForestClassifier\n",
    "\n",
    "# first make a baseline random forest model to do a gridsearch on\n",
    "forest_baseline = RandomForestClassifier()\n",
    "forest_baseline.fit(X_train, y_train)"
   ]
  },
  {
   "cell_type": "code",
   "execution_count": 43,
   "metadata": {},
   "outputs": [
    {
     "data": {
      "text/plain": [
       "{'criterion': 'entropy',\n",
       " 'max_depth': 7,\n",
       " 'min_samples_leaf': 3,\n",
       " 'min_samples_split': 5}"
      ]
     },
     "execution_count": 43,
     "metadata": {},
     "output_type": "execute_result"
    }
   ],
   "source": [
    "# first do a gridseach to find best params for the random forest model\n",
    "# set parameters and grid search\n",
    "param = {\n",
    "    'criterion': ['gini', 'entropy'],\n",
    "    'max_depth': [ 3, 5, 7],\n",
    "    'min_samples_split': [2, 5, 10],\n",
    "    'min_samples_leaf': [1, 2, 3, 4, 5, 6]}\n",
    "\n",
    "gridsearch = GridSearchCV(estimator=forest_baseline,\n",
    "                          param_grid=param)\n",
    "\n",
    "#Run search & takes a min or two\n",
    "gridsearch.fit(X_train, y_train)\n",
    "gridsearch.best_params_"
   ]
  },
  {
   "cell_type": "code",
   "execution_count": 44,
   "metadata": {},
   "outputs": [
    {
     "data": {
      "text/plain": [
       "{'criterion': 'gini',\n",
       " 'max_depth': 8,\n",
       " 'min_samples_leaf': 2,\n",
       " 'min_samples_split': 10}"
      ]
     },
     "execution_count": 44,
     "metadata": {},
     "output_type": "execute_result"
    }
   ],
   "source": [
    "# change the parameters based on what the first gridsearch got \n",
    "\n",
    "param_2 = {\n",
    "    'criterion': ['gini'],\n",
    "    'max_depth': [ 6, 7, 8],\n",
    "    'min_samples_split': [9, 10, 11],\n",
    "    'min_samples_leaf': [2]}\n",
    "\n",
    "gridsearch_2 = GridSearchCV(estimator=forest_baseline,\n",
    "                          param_grid=param_2)\n",
    "\n",
    "#Run search & takes a min or two\n",
    "gridsearch_2.fit(X_train, y_train)\n",
    "gridsearch_2.best_params_"
   ]
  },
  {
   "cell_type": "code",
   "execution_count": 45,
   "metadata": {},
   "outputs": [
    {
     "data": {
      "text/plain": [
       "{'criterion': 'gini',\n",
       " 'max_depth': 12,\n",
       " 'min_samples_leaf': 2,\n",
       " 'min_samples_split': 9}"
      ]
     },
     "execution_count": 45,
     "metadata": {},
     "output_type": "execute_result"
    }
   ],
   "source": [
    "# change the parameters based on what the second gridsearch got \n",
    "param_3 = {\n",
    "    'criterion': ['gini'],\n",
    "    'max_depth': [8, 10, 12],\n",
    "    'min_samples_split': [8, 9],\n",
    "    'min_samples_leaf': [2]}\n",
    "\n",
    "gridsearch_3 = GridSearchCV(estimator=forest_baseline,\n",
    "                          param_grid=param_3)\n",
    "\n",
    "#Run search & takes a min or two\n",
    "gridsearch_3.fit(X_train, y_train)\n",
    "gridsearch_3.best_params_"
   ]
  },
  {
   "cell_type": "code",
   "execution_count": 46,
   "metadata": {},
   "outputs": [
    {
     "name": "stdout",
     "output_type": "stream",
     "text": [
      "----------------------------------------\n",
      "MODEL EVALUATION\n",
      "----------------------------------------\n",
      "Accuracy : 0.8130304543185222\n",
      "Precision : 0.7775850104094378\n",
      "Recall : 0.7141491395793499\n",
      "f1: 0.7445182724252492\n",
      "----------------------------------------\n"
     ]
    },
    {
     "data": {
      "image/png": "[encoded data removed]",
      "text/plain": [
       "<Figure size 1008x432 with 3 Axes>"
      ]
     },
     "metadata": {
      "needs_background": "light"
     },
     "output_type": "display_data"
    }
   ],
   "source": [
    "# Run the model evaluation with param_3 to see how it did\n",
    "params = gridsearch_3.best_params_\n",
    "model = RandomForestClassifier(**params)\n",
    "model.fit(X_train, y_train)\n",
    "\n",
    "model_eval(model,X_test,y_test,\n",
    "           classes=['Not Vaccinated','Vaccinated']);\n"
   ]
  },
  {
   "cell_type": "code",
   "execution_count": 47,
   "metadata": {},
   "outputs": [
    {
     "data": {
      "image/png": "[encoded data removed]",
      "text/plain": [
       "<Figure size 432x288 with 1 Axes>"
      ]
     },
     "metadata": {
      "needs_background": "light"
     },
     "output_type": "display_data"
    }
   ],
   "source": [
    "plot_importance(model,X_test)"
   ]
  },
  {
   "cell_type": "markdown",
   "metadata": {},
   "source": [
    "Compared to the decision tree model the top features have swapped positions and overall the relevance of the important features has dropped.\n",
    "\n",
    "Model 4 performance is similar to the first model which was a basic logistic regression model. However, model 4 did have a slightly higher accuracy and for that reason we will use model 4 for the interpretation and results. "
   ]
  },
  {
   "cell_type": "markdown",
   "metadata": {},
   "source": [
    "## Interpretation"
   ]
  },
  {
   "cell_type": "code",
   "execution_count": 48,
   "metadata": {},
   "outputs": [
    {
     "data": {
      "image/png": "[encoded data removed]",
      "text/plain": [
       "<Figure size 360x360 with 2 Axes>"
      ]
     },
     "metadata": {
      "needs_background": "light"
     },
     "output_type": "display_data"
    }
   ],
   "source": [
    "important_cols = ['opinion_seas_sick_from_vacc', 'doctor_recc_seasonal' ]\n",
    "vacc_only = data[data['seasonal_vaccine']==1]\n",
    "\n",
    "fig, axes = plt.subplots(nrows=2, ncols=1, figsize=(5,5), sharey=True)\n",
    "\n",
    "for col, ax in zip(important_cols, axes.flatten()):\n",
    "    (data.value_counts(col)               \n",
    "         .plot\n",
    "         .bar(ax=ax))                \n",
    "    \n",
    "    ax.set_title(col, fontsize=12) \n",
    "    ax.set_ylabel('Count of Vaccinated')\n",
    "    ax.set_xlabel('Count of Vaccinated')\n",
    "  \n",
    "    \n",
    "fig.tight_layout()\n"
   ]
  },
  {
   "cell_type": "code",
   "execution_count": 49,
   "metadata": {},
   "outputs": [],
   "source": [
    "# to make better looking visualizations for non-tech presentation I renamed the column values\n",
    "data_rename = data.copy()\n",
    "df5 = data_rename.astype(str)\n",
    "df5['doctor_recc_seasonal'].replace({'0.0': 'not recommended', '1.0':'reccomended'}, inplace=True)\n",
    "df5['seasonal_vaccine'].replace({'0': 'not vaccinated', '1':'vaccinated'}, inplace=True)\n",
    "df5['opinion_seas_sick_from_vacc'].replace({'1.0': 'Not at all effective', '2.0': 'Not very effective',\n",
    "                                            '3.0': 'Dont know','4.0': 'Somewhat effective',\n",
    "                                            '5.0': 'Very effective'}, inplace=True)\n"
   ]
  },
  {
   "cell_type": "code",
   "execution_count": 50,
   "metadata": {},
   "outputs": [
    {
     "data": {
      "text/plain": [
       "<bound method NDFrame.describe of doctor_recc_seasonal  seasonal_vaccine\n",
       "not recommended       not vaccinated      12155\n",
       "                      vaccinated           6458\n",
       "reccomended           not vaccinated       2117\n",
       "                      vaccinated           5977\n",
       "dtype: int64>"
      ]
     },
     "execution_count": 50,
     "metadata": {},
     "output_type": "execute_result"
    }
   ],
   "source": [
    "groups = df5.groupby(['doctor_recc_seasonal', 'seasonal_vaccine']).size()\n",
    "groups.describe"
   ]
  },
  {
   "cell_type": "code",
   "execution_count": 55,
   "metadata": {},
   "outputs": [
    {
     "name": "stdout",
     "output_type": "stream",
     "text": [
      "Percentage of people vaccinated who where reccommended to get the vaccine: 73.84482332592044%\n",
      "Percentage of people not vaccinated who where reccommended to get the vaccine: 26.155176674079566%\n",
      "----------------------------------------\n",
      "Percentage of people vaccinated who where NOT reccommended to get the vaccine: 34.69618008918498%\n",
      "Percentage of people not vaccinated who where NOT reccommended to get the vaccine: 65.30381991081502%\n"
     ]
    }
   ],
   "source": [
    "print(f'Percentage of people vaccinated who where reccommended to get the vaccine: {(5977/(2117+5977))*100}%')\n",
    "print(f'Percentage of people not vaccinated who where reccommended to get the vaccine: {(2117/(2117+5977))*100}%')\n",
    "print(dashes)\n",
    "print(f'Percentage of people vaccinated who where NOT reccommended to get the vaccine: {((6458/(12155+6458))*100)}%')\n",
    "print(f'Percentage of people not vaccinated who where NOT reccommended to get the vaccine: {((12155/(12155+6458))*100)}%')"
   ]
  },
  {
   "cell_type": "code",
   "execution_count": 52,
   "metadata": {},
   "outputs": [
    {
     "data": {
      "text/plain": [
       "Text(0.5, 1.0, 'Survey Response of Doctor Reccomends Vaccine')"
      ]
     },
     "execution_count": 52,
     "metadata": {},
     "output_type": "execute_result"
    },
    {
     "data": {
      "image/png": "[encoded data removed]",
      "text/plain": [
       "<Figure size 432x288 with 1 Axes>"
      ]
     },
     "metadata": {
      "needs_background": "light"
     },
     "output_type": "display_data"
    }
   ],
   "source": [
    "# try out some different plots\n",
    "groups.plot.bar()\n",
    "\n",
    "plt.xlabel(\"Survey Response\", size=15)\n",
    "plt.ylabel(\"Count of People\", size=15)\n",
    "plt.title('Survey Response of Doctor Reccomends Vaccine', size=15)"
   ]
  },
  {
   "cell_type": "code",
   "execution_count": 53,
   "metadata": {},
   "outputs": [
    {
     "data": {
      "image/png": "[encoded data removed]",
      "text/plain": [
       "<Figure size 432x288 with 1 Axes>"
      ]
     },
     "metadata": {
      "needs_background": "light"
     },
     "output_type": "display_data"
    }
   ],
   "source": [
    "# make visual for non-tech interpetation\n",
    "pd.crosstab(df5['doctor_recc_seasonal'],df5['seasonal_vaccine']).plot.bar(rot=0, color=['lightblue', 'teal'])\n",
    "\n",
    "# make it more readable\n",
    "plt.xlabel(\"Survey Response\", size=14)\n",
    "plt.ylabel(\"Count of People\", size=14)\n",
    "plt.title('Survey Response if Doctor Reccomended Vaccine', size=14)\n",
    "plt.legend(title=\"Seasonal Flu\")\n",
    "plt.xticks(size=14)\n",
    "\n",
    "fig.tight_layout()\n",
    "\n",
    "plt.savefig(\"images/Survey_recc.png\", dpi=150, bbox_inches = \"tight\")"
   ]
  },
  {
   "cell_type": "markdown",
   "metadata": {},
   "source": [
    "The visualization shows there is a possible impact of whether a doctor recommends the seasonal flu vaccine to an individual. The amount of people who chose not to get vaccinated but were recommended to get the vaccine was dramatically lower than those who were not recommended. Looking at the percentages of people recommended to get the vaccine vs. those who were not shows: only 35% of people got vaccinated who were not recommend where as 74% of people got vaccinated who were recommend to by a doctor.\n"
   ]
  },
  {
   "cell_type": "code",
   "execution_count": 54,
   "metadata": {},
   "outputs": [
    {
     "data": {
      "image/png": "[encoded data removed]",
      "text/plain": [
       "<Figure size 432x288 with 1 Axes>"
      ]
     },
     "metadata": {
      "needs_background": "light"
     },
     "output_type": "display_data"
    }
   ],
   "source": [
    "# make visual for non-tech interpetation\n",
    "pd.crosstab(df5['opinion_seas_sick_from_vacc'],df5['seasonal_vaccine']).plot.bar(color=['lightblue', 'teal'])\n",
    "\n",
    "# make it more readable\n",
    "plt.xlabel(\"Survey Response\", size=14)\n",
    "plt.ylabel(\"Count of People\", size=14)\n",
    "plt.title('Survey Response of Opinion of Seasonal Flu Vaccine', size=14)\n",
    "plt.legend(title=\"Seasonal Flu\")\n",
    "plt.xticks(size=14)\n",
    "\n",
    "fig.tight_layout()\n",
    "\n",
    "plt.savefig(\"images/Survey_Opinion.png\", dpi=150, bbox_inches = \"tight\")"
   ]
  },
  {
   "cell_type": "markdown",
   "metadata": {},
   "source": [
    "When we visualize the features with the top influences it was interesting to see that the count of people who answered to the different rankings of effectiveness (1-5) was around the same whether the individual was vaccinated or not. The top feature was the opinion that the seasonal vaccine was very effective (a score of 5). Still, surprisingly more individuals who chose not to get vaccinated had this view than the count of those vaccinated.\n",
    "\n",
    "The main point from the visual would be that the majority of survey takers do not at all think the vaccine is effective. A possible next step would be to look into ways to influence more people into believing the vaccine is effective, however this data showed that even if the public was to be convinced it does not have an obvious correlation with getting vaccinated. From this first glance I would advise with confidence that added efforts to changing peoples' views would lead them to getting the vaccine.\n",
    "\n",
    "A look at the model's results show the final model had an accuracy of 0.79, a precision of 0.78, and a recall of 0.71. To answer the business question, a high precision is important. This is because we want to focus on people who are correctly identified as vaccinated or not, and understand their survey responses. We want to make sure the model is analysing relevant data. Surveys that are grouped incorrectly, those responses will be associated with the wrong group and disrupt the quality of the model’s results.  "
   ]
  },
  {
   "cell_type": "markdown",
   "metadata": {},
   "source": [
    "## CONCLUSIONS & RECOMMENDATIONS\n"
   ]
  },
  {
   "cell_type": "markdown",
   "metadata": {},
   "source": [
    "In summary, The model showed:\n",
    "- The model found the most important question on the survey in predicting if someone was vaccinated was if they felt the vaccine was ‘very effective’.\n",
    "- The second most important question was if a doctor recommended they get vaccinated.\n",
    "- A closer look into the survey response of the opinion of the seasonal flu vaccine effectiveness showed the connection is unclear between peoples opinions and getting vaccinated. For this reason, at this stage in the investigation I do not advise the client assume that changing the opinion of people will raise vaccination rates.\n",
    "- The model did show there is a connection between people getting the vaccine once they were recommended to by a doctor because of this, I recommend the client consider ways they can incentivise or encourage doctors to recommend the seasonal flu vaccine to their patients. \n",
    "\n",
    "The next steps include gaining and looking into more data on doctors recommending the seasonal flu vaccine. This analysis just touches the surface of the impacts of doctors recommending the seasonal flu vaccine. Further investigation into who, why, and why not doctors recommend the seasonal flu vaccine could be beneficial. I suggest this because before developing methods on how to get more doctors to recommend the vaccine it is important to understand the medical reasons doctors make the decisions they do when it comes to recommending the flu vaccine.\n",
    "\n",
    "A further improvement of this model could also prove beneficial. Currently the precision of this model is at 0.78 which is not horrible but also not completely trustworthy. There are many ways to continue tuning this model which could possibly lead to better performance. A tuning method that could be added to this model gradient boosting.  \n"
   ]
  }
 ],
 "metadata": {
  "kernelspec": {
   "display_name": "Python (learn-env)",
   "language": "python",
   "name": "learn-env"
  },
  "language_info": {
   "codemirror_mode": {
    "name": "ipython",
    "version": 3
   },
   "file_extension": ".py",
   "mimetype": "text/x-python",
   "name": "python",
   "nbconvert_exporter": "python",
   "pygments_lexer": "ipython3",
   "version": "3.8.5"
  }
 },
 "nbformat": 4,
 "nbformat_minor": 4
}
